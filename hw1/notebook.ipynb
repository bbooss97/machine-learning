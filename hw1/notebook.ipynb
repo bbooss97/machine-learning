{
 "cells": [
  {
   "cell_type": "code",
   "execution_count": null,
   "metadata": {},
   "outputs": [],
   "source": [
    "import pandas as pd\n",
    "import numpy as np\n",
    "from sklearn.metrics import f1_score\n",
    "from sklearn.metrics import precision_score\n",
    "from sklearn.metrics import recall_score\n",
    "from sklearn.metrics import ConfusionMatrixDisplay, confusion_matrix\n",
    "from sklearn.preprocessing import MinMaxScaler, StandardScaler\n",
    "\n",
    "dataset=pd.read_csv(\"train_set.tsv\", sep='\\t', header=0)\n",
    "dataset_numpy=dataset.to_numpy()\n",
    "x=dataset_numpy[:,:-2]\n",
    "y=dataset_numpy[:,-2:]\n",
    "\n"
   ]
  },
  {
   "cell_type": "code",
   "execution_count": 17,
   "metadata": {},
   "outputs": [],
   "source": [
    "\n",
    "scaler = MinMaxScaler()\n",
    "# scaler = StandardScaler()\n",
    "scaler.fit(x)\n",
    "x=scaler.transform(x)\n",
    "\n",
    "\n",
    "\n"
   ]
  },
  {
   "cell_type": "code",
   "execution_count": 65,
   "metadata": {},
   "outputs": [
    {
     "name": "stdout",
     "output_type": "stream",
     "text": [
      "(750, 35) (750, 2) (250, 35) (250, 2)\n"
     ]
    }
   ],
   "source": [
    "from sklearn.model_selection import train_test_split\n",
    "x_train, x_test, y_train, y_test = train_test_split(x, y)\n",
    "print(x_train.shape, y_train.shape, x_test.shape, y_test.shape)"
   ]
  },
  {
   "cell_type": "code",
   "execution_count": 66,
   "metadata": {},
   "outputs": [],
   "source": [
    "#if you want to undersample the data doenst work because i've not too much data \n",
    "from imblearn.under_sampling import RandomUnderSampler\n",
    "over_sampler = RandomUnderSampler(random_state=42)\n",
    "x_train, y_train = over_sampler.fit_resample(x_train, y_train[:,0])\n",
    "y_train=y_train.reshape(-1,1)"
   ]
  },
  {
   "cell_type": "code",
   "execution_count": 58,
   "metadata": {},
   "outputs": [],
   "source": [
    "#if you want to oversample i dont think it's a good idea because i've not too much data \n",
    "from imblearn.over_sampling import RandomOverSampler\n",
    "over_sampler = RandomOverSampler(random_state=42)\n",
    "x_train, y_train = over_sampler.fit_resample(x_train, y_train[:,0])\n",
    "y_train=y_train.reshape(-1,1)\n"
   ]
  },
  {
   "cell_type": "code",
   "execution_count": 74,
   "metadata": {},
   "outputs": [
    {
     "name": "stdout",
     "output_type": "stream",
     "text": [
      "Counter({0.0: 0.2, 1.0: 0.2, 2.0: 0.2, 3.0: 0.2, 4.0: 0.2})\n"
     ]
    }
   ],
   "source": [
    "#evaluate label weights\n",
    "from collections import Counter\n",
    "c=Counter(y_train[:,0])\n",
    "for k,v in c.items():\n",
    "    c[k]=v/len(y_train)\n",
    "print(c)"
   ]
  },
  {
   "cell_type": "code",
   "execution_count": 67,
   "metadata": {},
   "outputs": [],
   "source": [
    "def classificationResults(x_train,x_test,y_train,y_test,model):\n",
    "    if y_train.shape[1]>1:\n",
    "        model.fit(x_train,y_train[:,0])\n",
    "        y_pred_train=model.predict(x_train)\n",
    "        y_pred_test=model.predict(x_test)\n",
    "        print(\"Train F1 score: \",f1_score(y_train[:,0],y_pred_train,average='micro'))\n",
    "        print(\"Train Precision score: \",precision_score(y_train[:,0],y_pred_train,average='micro'))\n",
    "        print(\"Train Recall score: \",recall_score(y_train[:,0],y_pred_train,average='micro'))\n",
    "        print(\"Test F1 score: \",f1_score(y_test[:,0],y_pred_test,average='micro'))\n",
    "        print(\"Test Precision score: \",precision_score(y_test[:,0],y_pred_test,average='micro'))\n",
    "        print(\"Test Recall score: \",recall_score(y_test[:,0],y_pred_test,average='micro'))\n",
    "        print(\"\\nConfusion Matrix test:\")\n",
    "\n",
    "        cm = confusion_matrix(y_test[:,0], y_pred_test)\n",
    "        disp = ConfusionMatrixDisplay(confusion_matrix=cm)\n",
    "        disp.plot()\n",
    "    else:\n",
    "        model.fit(x_train,y_train)\n",
    "        y_pred_train=model.predict(x_train)\n",
    "        y_pred_test=model.predict(x_test)\n",
    "        print(\"Train F1 score: \",f1_score(y_train,y_pred_train,average='micro'))\n",
    "        print(\"Train Precision score: \",precision_score(y_train,y_pred_train,average='micro'))\n",
    "        print(\"Train Recall score: \",recall_score(y_train,y_pred_train,average='micro'))\n",
    "        print(\"Test F1 score: \",f1_score(y_test[:,0],y_pred_test,average='micro'))\n",
    "        print(\"Test Precision score: \",precision_score(y_test[:,0],y_pred_test,average='micro'))\n",
    "        print(\"Test Recall score: \",recall_score(y_test[:,0],y_pred_test,average='micro'))\n",
    "        print(\"\\nConfusion Matrix test:\")\n",
    "\n",
    "        cm = confusion_matrix(y_test[:,0], y_pred_test)\n",
    "        disp = ConfusionMatrixDisplay(confusion_matrix=cm)\n",
    "        disp.plot()\n"
   ]
  },
  {
   "cell_type": "code",
   "execution_count": 5,
   "metadata": {},
   "outputs": [],
   "source": [
    "def regressionResults(x_train,x_test,y_train,y_test,model):\n",
    "    model.fit(x_train,y_train[:,1])\n",
    "    y_pred_train=model.predict(x_train)\n",
    "    y_pred_test=model.predict(x_test)\n",
    "    print(\"Train MSE: \",np.mean((y_train[:,1]-y_pred_train)**2))\n",
    "    print(\"Train MAE: \",np.mean(np.abs(y_train[:,1]-y_pred_train)))\n",
    "    print(\"Test MSE: \",np.mean((y_test[:,1]-y_pred_test)**2))\n",
    "    print(\"Test MAE: \",np.mean(np.abs(y_test[:,1]-y_pred_test)))\n",
    "    "
   ]
  },
  {
   "cell_type": "code",
   "execution_count": 68,
   "metadata": {},
   "outputs": [
    {
     "name": "stdout",
     "output_type": "stream",
     "text": [
      "Train F1 score:  1.0\n",
      "Train Precision score:  1.0\n",
      "Train Recall score:  1.0\n",
      "Test F1 score:  0.18\n",
      "Test Precision score:  0.18\n",
      "Test Recall score:  0.18\n",
      "\n",
      "Confusion Matrix test:\n"
     ]
    },
    {
     "data": {
      "image/png": "[encoded data removed]",
      "text/plain": [
       "<Figure size 432x288 with 2 Axes>"
      ]
     },
     "metadata": {
      "needs_background": "light"
     },
     "output_type": "display_data"
    }
   ],
   "source": [
    "\n",
    "from sklearn import tree\n",
    "model=tree.DecisionTreeClassifier()\n",
    "classificationResults(x_train,x_test,y_train,y_test,model)\n",
    "\n",
    "#there is a lot of overfitting because decision trees try to memorize the dataset so i try to use random forest to tackle this problem "
   ]
  },
  {
   "cell_type": "code",
   "execution_count": 69,
   "metadata": {},
   "outputs": [
    {
     "name": "stderr",
     "output_type": "stream",
     "text": [
      "C:\\Users\\morel\\AppData\\Local\\Temp\\ipykernel_2668\\1759291749.py:18: DataConversionWarning: A column-vector y was passed when a 1d array was expected. Please change the shape of y to (n_samples,), for example using ravel().\n",
      "  model.fit(x_train,y_train)\n"
     ]
    },
    {
     "name": "stdout",
     "output_type": "stream",
     "text": [
      "Train F1 score:  1.0\n",
      "Train Precision score:  1.0\n",
      "Train Recall score:  1.0\n",
      "Test F1 score:  0.172\n",
      "Test Precision score:  0.172\n",
      "Test Recall score:  0.172\n",
      "\n",
      "Confusion Matrix test:\n"
     ]
    },
    {
     "data": {
      "image/png": "[encoded data removed]",
      "text/plain": [
       "<Figure size 432x288 with 2 Axes>"
      ]
     },
     "metadata": {
      "needs_background": "light"
     },
     "output_type": "display_data"
    }
   ],
   "source": [
    "from sklearn.ensemble import RandomForestClassifier\n",
    "model=RandomForestClassifier()\n",
    "classificationResults(x_train,x_test,y_train,y_test,model)\n",
    "\n"
   ]
  },
  {
   "cell_type": "code",
   "execution_count": 70,
   "metadata": {},
   "outputs": [
    {
     "name": "stderr",
     "output_type": "stream",
     "text": [
      "c:\\Users\\morel\\AppData\\Local\\Programs\\Python\\Python310\\lib\\site-packages\\sklearn\\utils\\validation.py:1111: DataConversionWarning: A column-vector y was passed when a 1d array was expected. Please change the shape of y to (n_samples, ), for example using ravel().\n",
      "  y = column_or_1d(y, warn=True)\n"
     ]
    },
    {
     "name": "stdout",
     "output_type": "stream",
     "text": [
      "Train F1 score:  1.0\n",
      "Train Precision score:  1.0\n",
      "Train Recall score:  1.0\n",
      "Test F1 score:  0.232\n",
      "Test Precision score:  0.232\n",
      "Test Recall score:  0.232\n",
      "\n",
      "Confusion Matrix test:\n"
     ]
    },
    {
     "data": {
      "image/png": "[encoded data removed]",
      "text/plain": [
       "<Figure size 432x288 with 2 Axes>"
      ]
     },
     "metadata": {
      "needs_background": "light"
     },
     "output_type": "display_data"
    }
   ],
   "source": [
    "from sklearn.linear_model import LogisticRegression\n",
    "model=LogisticRegression(max_iter=1000)\n",
    "classificationResults(x_train,x_test,y_train,y_test,model)"
   ]
  },
  {
   "cell_type": "code",
   "execution_count": 63,
   "metadata": {},
   "outputs": [
    {
     "name": "stderr",
     "output_type": "stream",
     "text": [
      "c:\\Users\\morel\\AppData\\Local\\Programs\\Python\\Python310\\lib\\site-packages\\sklearn\\utils\\validation.py:1111: DataConversionWarning: A column-vector y was passed when a 1d array was expected. Please change the shape of y to (n_samples, ), for example using ravel().\n",
      "  y = column_or_1d(y, warn=True)\n"
     ]
    },
    {
     "name": "stdout",
     "output_type": "stream",
     "text": [
      "Train F1 score:  0.5140740740740741\n",
      "Train Precision score:  0.5140740740740741\n",
      "Train Recall score:  0.5140740740740741\n",
      "Test F1 score:  0.308\n",
      "Test Precision score:  0.308\n",
      "Test Recall score:  0.308\n",
      "\n",
      "Confusion Matrix test:\n"
     ]
    },
    {
     "data": {
      "image/png": "[encoded data removed]",
      "text/plain": [
       "<Figure size 432x288 with 2 Axes>"
      ]
     },
     "metadata": {
      "needs_background": "light"
     },
     "output_type": "display_data"
    }
   ],
   "source": [
    "from sklearn.naive_bayes import GaussianNB\n",
    "model=GaussianNB()\n",
    "classificationResults(x_train,x_test,y_train,y_test,model)"
   ]
  },
  {
   "cell_type": "code",
   "execution_count": 64,
   "metadata": {},
   "outputs": [
    {
     "name": "stderr",
     "output_type": "stream",
     "text": [
      "c:\\Users\\morel\\AppData\\Local\\Programs\\Python\\Python310\\lib\\site-packages\\sklearn\\utils\\validation.py:1111: DataConversionWarning: A column-vector y was passed when a 1d array was expected. Please change the shape of y to (n_samples, ), for example using ravel().\n",
      "  y = column_or_1d(y, warn=True)\n"
     ]
    },
    {
     "name": "stdout",
     "output_type": "stream",
     "text": [
      "Train F1 score:  0.9451851851851852\n",
      "Train Precision score:  0.9451851851851852\n",
      "Train Recall score:  0.9451851851851852\n",
      "Test F1 score:  0.452\n",
      "Test Precision score:  0.452\n",
      "Test Recall score:  0.452\n",
      "\n",
      "Confusion Matrix test:\n"
     ]
    },
    {
     "data": {
      "image/png": "[encoded data removed]",
      "text/plain": [
       "<Figure size 432x288 with 2 Axes>"
      ]
     },
     "metadata": {
      "needs_background": "light"
     },
     "output_type": "display_data"
    }
   ],
   "source": [
    "from sklearn import svm\n",
    "model=svm.SVC()\n",
    "classificationResults(x_train,x_test,y_train,y_test,model)"
   ]
  },
  {
   "cell_type": "code",
   "execution_count": 103,
   "metadata": {},
   "outputs": [
    {
     "name": "stderr",
     "output_type": "stream",
     "text": [
      "c:\\Users\\morel\\AppData\\Local\\Programs\\Python\\Python310\\lib\\site-packages\\sklearn\\neighbors\\_classification.py:237: FutureWarning: Unlike other reduction functions (e.g. `skew`, `kurtosis`), the default behavior of `mode` typically preserves the axis it acts along. In SciPy 1.11.0, this behavior will change: the default value of `keepdims` will become False, the `axis` over which the statistic is taken will be eliminated, and the value None will no longer be accepted. Set `keepdims` to True or False to avoid this warning.\n",
      "  mode, _ = stats.mode(_y[neigh_ind, k], axis=1)\n",
      "c:\\Users\\morel\\AppData\\Local\\Programs\\Python\\Python310\\lib\\site-packages\\sklearn\\neighbors\\_classification.py:237: FutureWarning: Unlike other reduction functions (e.g. `skew`, `kurtosis`), the default behavior of `mode` typically preserves the axis it acts along. In SciPy 1.11.0, this behavior will change: the default value of `keepdims` will become False, the `axis` over which the statistic is taken will be eliminated, and the value None will no longer be accepted. Set `keepdims` to True or False to avoid this warning.\n",
      "  mode, _ = stats.mode(_y[neigh_ind, k], axis=1)\n"
     ]
    },
    {
     "name": "stdout",
     "output_type": "stream",
     "text": [
      "Train F1 score:  0.616\n",
      "Train Precision score:  0.616\n",
      "Train Recall score:  0.616\n",
      "Test F1 score:  0.484\n",
      "Test Precision score:  0.484\n",
      "Test Recall score:  0.484\n",
      "\n",
      "Confusion Matrix test:\n"
     ]
    },
    {
     "data": {
      "image/png": "[encoded data removed]",
      "text/plain": [
       "<Figure size 432x288 with 2 Axes>"
      ]
     },
     "metadata": {
      "needs_background": "light"
     },
     "output_type": "display_data"
    }
   ],
   "source": [
    "\n",
    "from sklearn.neighbors import KNeighborsClassifier\n",
    "model=KNeighborsClassifier()\n",
    "classificationResults(x_train,x_test,y_train,y_test,model)"
   ]
  },
  {
   "cell_type": "code",
   "execution_count": 97,
   "metadata": {},
   "outputs": [
    {
     "name": "stdout",
     "output_type": "stream",
     "text": [
      "Train F1 score:  0.44666666666666666\n",
      "Train Precision score:  0.44666666666666666\n",
      "Train Recall score:  0.44666666666666666\n",
      "Test F1 score:  0.468\n",
      "Test Precision score:  0.468\n",
      "Test Recall score:  0.468\n",
      "\n",
      "Confusion Matrix test:\n"
     ]
    },
    {
     "data": {
      "image/png": "[encoded data removed]",
      "text/plain": [
       "<Figure size 432x288 with 2 Axes>"
      ]
     },
     "metadata": {
      "needs_background": "light"
     },
     "output_type": "display_data"
    }
   ],
   "source": [
    "from sklearn.ensemble import AdaBoostClassifier\n",
    "model=AdaBoostClassifier()\n",
    "classificationResults(x_train,x_test,y_train,y_test,model)"
   ]
  },
  {
   "cell_type": "code",
   "execution_count": 98,
   "metadata": {},
   "outputs": [
    {
     "name": "stdout",
     "output_type": "stream",
     "text": [
      "Train F1 score:  0.976\n",
      "Train Precision score:  0.976\n",
      "Train Recall score:  0.976\n",
      "Test F1 score:  0.512\n",
      "Test Precision score:  0.512\n",
      "Test Recall score:  0.512\n",
      "\n",
      "Confusion Matrix test:\n"
     ]
    },
    {
     "data": {
      "image/png": "[encoded data removed]",
      "text/plain": [
       "<Figure size 432x288 with 2 Axes>"
      ]
     },
     "metadata": {
      "needs_background": "light"
     },
     "output_type": "display_data"
    }
   ],
   "source": [
    "from sklearn.ensemble import GradientBoostingClassifier\n",
    "model=GradientBoostingClassifier()\n",
    "classificationResults(x_train,x_test,y_train,y_test,model)"
   ]
  },
  {
   "cell_type": "code",
   "execution_count": null,
   "metadata": {},
   "outputs": [],
   "source": []
  },
  {
   "cell_type": "code",
   "execution_count": 100,
   "metadata": {},
   "outputs": [
    {
     "name": "stdout",
     "output_type": "stream",
     "text": [
      "Train MSE:  0.0\n",
      "Train MAE:  0.0\n",
      "Test MSE:  245660935.7110448\n",
      "Test MAE:  12108.813549979564\n"
     ]
    }
   ],
   "source": [
    "model=tree.DecisionTreeRegressor()\n",
    "regressionResults(x_train,x_test,y_train,y_test,model)"
   ]
  },
  {
   "cell_type": "code",
   "execution_count": 101,
   "metadata": {},
   "outputs": [
    {
     "name": "stdout",
     "output_type": "stream",
     "text": [
      "Train MSE:  17008819.637906082\n",
      "Train MAE:  3250.4158226059935\n",
      "Test MSE:  113446858.52967975\n",
      "Test MAE:  8115.680126736027\n"
     ]
    }
   ],
   "source": [
    "from sklearn.ensemble import RandomForestRegressor\n",
    "model=RandomForestRegressor()\n",
    "regressionResults(x_train,x_test,y_train,y_test,model)"
   ]
  },
  {
   "cell_type": "code",
   "execution_count": 102,
   "metadata": {},
   "outputs": [
    {
     "name": "stdout",
     "output_type": "stream",
     "text": [
      "Train MSE:  115462408.6871379\n",
      "Train MAE:  8518.609996693112\n",
      "Test MSE:  129488935.55751167\n",
      "Test MAE:  8608.164176130866\n"
     ]
    }
   ],
   "source": [
    "\n",
    "from sklearn.linear_model import LinearRegression\n",
    "model=LinearRegression()\n",
    "regressionResults(x_train,x_test,y_train,y_test,model)\n"
   ]
  },
  {
   "cell_type": "code",
   "execution_count": 104,
   "metadata": {},
   "outputs": [
    {
     "name": "stdout",
     "output_type": "stream",
     "text": [
      "Train MSE:  134997843.81815356\n",
      "Train MAE:  8518.271980737838\n",
      "Test MSE:  124894604.45757966\n",
      "Test MAE:  7965.0157256517405\n"
     ]
    }
   ],
   "source": [
    "# import support vector regression\n",
    "from sklearn.svm import SVR\n",
    "model=SVR()\n",
    "regressionResults(x_train,x_test,y_train,y_test,model)"
   ]
  },
  {
   "cell_type": "code",
   "execution_count": 105,
   "metadata": {},
   "outputs": [
    {
     "name": "stdout",
     "output_type": "stream",
     "text": [
      "Train MSE:  8773534.344930485\n",
      "Train MAE:  2307.6987611352315\n",
      "Test MSE:  850457851.5359564\n",
      "Test MAE:  22850.37448516889\n"
     ]
    }
   ],
   "source": [
    "#import polynomial regression\n",
    "from sklearn.preprocessing import PolynomialFeatures\n",
    "from sklearn.pipeline import make_pipeline\n",
    "model=make_pipeline(PolynomialFeatures(2),LinearRegression())\n",
    "regressionResults(x_train,x_test,y_train,y_test,model)\n"
   ]
  }
 ],
 "metadata": {
  "kernelspec": {
   "display_name": "Python 3.11.0 64-bit",
   "language": "python",
   "name": "python3"
  },
  "language_info": {
   "codemirror_mode": {
    "name": "ipython",
    "version": 3
   },
   "file_extension": ".py",
   "mimetype": "text/x-python",
   "name": "python",
   "nbconvert_exporter": "python",
   "pygments_lexer": "ipython3",
   "version": "3.11.0"
  },
  "orig_nbformat": 4,
  "vscode": {
   "interpreter": {
    "hash": "32b23772a312cabd037b51ffca153a178270ce00afd94da1694114bd3650a0bf"
   }
  }
 },
 "nbformat": 4,
 "nbformat_minor": 2
}
