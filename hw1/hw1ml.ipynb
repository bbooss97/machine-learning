{
  "cells": [
    {
      "cell_type": "code",
      "execution_count": null,
      "metadata": {
        "colab": {
          "base_uri": "https://localhost:8080/"
        },
        "id": "GEmuyc0zhE4z",
        "outputId": "0001aa9a-bc9f-46c1-a88b-c2e90d217796"
      },
      "outputs": [],
      "source": [
        "from google.colab import drive\n",
        "drive.mount('/gdrive')"
      ]
    },
    {
      "cell_type": "code",
      "execution_count": null,
      "metadata": {
        "colab": {
          "base_uri": "https://localhost:8080/"
        },
        "id": "U6cRVDCmhsyO",
        "outputId": "e54d4a80-b78a-4e52-8db1-feb75078d104"
      },
      "outputs": [],
      "source": [
        "%cd ../gdrive/MyDrive/hw1ml/"
      ]
    },
    {
      "cell_type": "code",
      "execution_count": null,
      "metadata": {
        "colab": {
          "base_uri": "https://localhost:8080/"
        },
        "id": "BDnbPCj9hGp5",
        "outputId": "65f5e7d0-afa3-4a50-fe7f-0a4eac36f477"
      },
      "outputs": [],
      "source": [
        "%ls\n"
      ]
    },
    {
      "cell_type": "markdown",
      "metadata": {
        "id": "R1wHFE5NoQwz"
      },
      "source": [
        "develop on local environment"
      ]
    },
    {
      "cell_type": "code",
      "execution_count": null,
      "metadata": {
        "id": "qpkm1vymlATX"
      },
      "outputs": [],
      "source": [
        "# Install useful stuff\n",
        "! apt install --yes ssh screen nano htop ranger git > /dev/null\n",
        "# SSH setting\n",
        "! echo \"root:carbonara\" | chpasswd\n",
        "! echo \"PasswordAuthentication yes\" > /etc/ssh/sshd_config\n",
        "! echo \"PermitUserEnvironment yes\" >> /etc/ssh/sshd_config\n",
        "! echo \"PermitRootLogin yes\" >> /etc/ssh/sshd_config\n",
        "! service ssh restart > /dev/null\n",
        "# Download ngrok\n",
        "! wget -q -c -nc https://bin.equinox.io/c/4VmDzA7iaHb/ngrok-stable-linux-amd64.zip\n",
        "! unzip -qq -n ngrok-stable-linux-amd64.zip\n",
        "# Run ngrok\n",
        "authtoken = \"20Apljvp3ViVnx3mzPGy8RN3VFt_4bzufXGF9Kkgm43PmRugS\"\n",
        "get_ipython().system_raw('./ngrok authtoken $authtoken && ./ngrok tcp 22 &')\n",
        "! sleep 3\n",
        "# Get the address for SSH\n",
        "import requests\n",
        "from re import sub\n",
        "r = requests.get('http://localhost:4040/api/tunnels')\n",
        "str_ssh = r.json()['tunnels'][0]['public_url']\n",
        "str_ssh = sub(\"tcp://\", \"\", str_ssh)\n",
        "str_ssh = sub(\":\", \" -p \", str_ssh)\n",
        "str_ssh = \"ssh root@\" + str_ssh\n",
        "print(str_ssh)"
      ]
    },
    {
      "cell_type": "markdown",
      "metadata": {
        "id": "lvgc3Cb86hT7"
      },
      "source": [
        "use once you open the notebook"
      ]
    },
    {
      "cell_type": "code",
      "execution_count": null,
      "metadata": {
        "id": "8nWUoGCw6hUD",
        "outputId": "e178ad44-8723-481d-fa9b-503cf432b9c0"
      },
      "outputs": [],
      "source": [
        "%cd ../hw1ml"
      ]
    },
    {
      "cell_type": "code",
      "execution_count": null,
      "metadata": {},
      "outputs": [],
      "source": [
        "!pip install shutup"
      ]
    },
    {
      "cell_type": "code",
      "execution_count": null,
      "metadata": {},
      "outputs": [],
      "source": [
        "\n",
        "##At the top of the code\n",
        "import shutup;\n",
        "shutup.please()"
      ]
    },
    {
      "cell_type": "markdown",
      "metadata": {
        "id": "pGsNEBuEckxV"
      },
      "source": [
        "read the dataset"
      ]
    },
    {
      "cell_type": "code",
      "execution_count": 11,
      "metadata": {
        "id": "0At4GZMPhDaM"
      },
      "outputs": [],
      "source": [
        "import pandas as pd\n",
        "import numpy as np\n",
        "from sklearn.metrics import f1_score\n",
        "from sklearn.metrics import precision_score\n",
        "from sklearn.metrics import recall_score\n",
        "from sklearn.metrics import accuracy_score\n",
        "from sklearn.metrics import r2_score\n",
        "from sklearn.metrics import ConfusionMatrixDisplay, confusion_matrix\n",
        "from sklearn.preprocessing import MinMaxScaler, StandardScaler\n",
        "from sklearn.model_selection import GridSearchCV\n",
        "import random\n",
        "import warnings\n",
        "\n",
        "#make everything reproducible\n",
        "random.seed(100)\n",
        "np.random.seed(100)\n",
        "\n",
        "\n",
        "dataset=pd.read_csv(\"train_set.tsv\", sep='\\t', header=0)\n",
        "dataset_numpy=dataset.to_numpy()\n",
        "x=dataset_numpy[:,:-2]\n",
        "y=dataset_numpy[:,-2:]\n",
        "\n"
      ]
    },
    {
      "cell_type": "markdown",
      "metadata": {},
      "source": [
        "add new features"
      ]
    },
    {
      "cell_type": "code",
      "execution_count": null,
      "metadata": {},
      "outputs": [],
      "source": [
        "print(f\"shape before {x.shape}\")\n",
        "for i in range(0, x.shape[1],7):\n",
        "    distance_x=x[:,i+1]-x[:,i+5]\n",
        "    distance_y=x[:,i+2]-x[:,i+6]\n",
        "    cosine_north=np.cos(x[:,i])\n",
        "    x=np.append(x, np.array([distance_x]).T, axis=1)\n",
        "    x=np.append(x, np.array([distance_y]).T, axis=1)\n",
        "    x=np.append(x, np.array([cosine_north]).T, axis=1)\n",
        "print(f\"shape after {x.shape}\")  \n",
        "\n"
      ]
    },
    {
      "cell_type": "markdown",
      "metadata": {
        "id": "sKDdyoIAcfmZ"
      },
      "source": [
        "use the minmax scaler"
      ]
    },
    {
      "cell_type": "code",
      "execution_count": 13,
      "metadata": {
        "id": "p7lqnkF5hDaN"
      },
      "outputs": [],
      "source": [
        "scaler = MinMaxScaler(feature_range=(-1, 1))\n",
        "scaler.fit(x)\n",
        "x=scaler.transform(x)"
      ]
    },
    {
      "cell_type": "markdown",
      "metadata": {
        "id": "Mk10t--Achxo"
      },
      "source": [
        "use the standard scaler"
      ]
    },
    {
      "cell_type": "code",
      "execution_count": null,
      "metadata": {
        "id": "cN1QjNSGcZOS"
      },
      "outputs": [],
      "source": [
        "scaler = StandardScaler()\n",
        "scaler.fit(x)\n",
        "x=scaler.transform(x)\n"
      ]
    },
    {
      "cell_type": "markdown",
      "metadata": {
        "id": "0bmQSJSSr_qr"
      },
      "source": [
        "if you want to normalize the data"
      ]
    },
    {
      "cell_type": "code",
      "execution_count": null,
      "metadata": {
        "id": "o7oZRiAAsC5a"
      },
      "outputs": [],
      "source": [
        "from sklearn.preprocessing import normalize\n",
        "x=normalize(x)"
      ]
    },
    {
      "cell_type": "markdown",
      "metadata": {
        "id": "lz4B9FtkuEMK"
      },
      "source": [
        "trying to use pca features"
      ]
    },
    {
      "cell_type": "code",
      "execution_count": null,
      "metadata": {
        "id": "ZCQ-nkbEt_pE"
      },
      "outputs": [],
      "source": [
        "\n",
        "from sklearn.decomposition import PCA\n",
        "\n",
        "pca = PCA(n_components=10)\n",
        "x = pca.fit_transform(x)"
      ]
    },
    {
      "cell_type": "markdown",
      "metadata": {},
      "source": [
        "trying to use svd features"
      ]
    },
    {
      "cell_type": "code",
      "execution_count": 12,
      "metadata": {},
      "outputs": [],
      "source": [
        "#take svd features\n",
        "from sklearn.decomposition import TruncatedSVD\n",
        "svd = TruncatedSVD(n_components=10, n_iter=7, random_state=42)\n",
        "x = svd.fit_transform(x)"
      ]
    },
    {
      "cell_type": "markdown",
      "metadata": {
        "id": "PoZPWUS50CEs"
      },
      "source": [
        "trying to descretize\n"
      ]
    },
    {
      "cell_type": "code",
      "execution_count": null,
      "metadata": {
        "id": "vtP2pBDJ0EHd"
      },
      "outputs": [],
      "source": [
        "from sklearn.preprocessing import KBinsDiscretizer\n"
      ]
    },
    {
      "cell_type": "markdown",
      "metadata": {
        "id": "knLOg3BB0YxM"
      },
      "source": [
        "trying to extract nonlinear features"
      ]
    },
    {
      "cell_type": "code",
      "execution_count": null,
      "metadata": {
        "id": "US4tmNO70b4O"
      },
      "outputs": [],
      "source": [
        "from sklearn.preprocessing import QuantileTransformer\n",
        "x=QuantileTransformer().fit_transform(x)"
      ]
    },
    {
      "cell_type": "markdown",
      "metadata": {
        "id": "cmYXeJuDcpFI"
      },
      "source": [
        "split the dataset"
      ]
    },
    {
      "cell_type": "code",
      "execution_count": 14,
      "metadata": {
        "colab": {
          "base_uri": "https://localhost:8080/"
        },
        "id": "oJ9HvBZjhDaO",
        "outputId": "13b35248-aea7-4447-b8c3-add7d55ffc76"
      },
      "outputs": [
        {
          "name": "stdout",
          "output_type": "stream",
          "text": [
            "(750, 10) (750, 2) (250, 10) (250, 2)\n",
            "the classes and the number of occurrences in the train set are (array([0., 1., 2., 3., 4.]), array([398, 252,  74,  24,   2], dtype=int64))\n",
            "the classes and the number of occurrences in the test set are (array([0., 1., 2., 3., 4.]), array([140,  81,  22,   6,   1], dtype=int64))\n"
          ]
        }
      ],
      "source": [
        "from sklearn.model_selection import train_test_split\n",
        "x_train, x_test, y_train, y_test = train_test_split(x, y,random_state=100)\n",
        "print(x_train.shape, y_train.shape, x_test.shape, y_test.shape)\n",
        "print(f\"the classes and the number of occurrences in the train set are {np.unique(y_train[:,0], return_counts=True)}\")\n",
        "print(f\"the classes and the number of occurrences in the test set are {np.unique(y_test[:,0], return_counts=True)}\")"
      ]
    },
    {
      "cell_type": "markdown",
      "metadata": {},
      "source": [
        "compute class weights"
      ]
    },
    {
      "cell_type": "code",
      "execution_count": null,
      "metadata": {},
      "outputs": [],
      "source": [
        "from sklearn.utils import class_weight\n",
        "class_weights = class_weight.compute_class_weight(\n",
        "    'balanced',\n",
        "    classes=np.unique(y_train[:,0]), \n",
        "    y=y_train[:,0]\n",
        "    )\n",
        "class_weight=dict(enumerate(class_weights))\n",
        "sample_weight=np.array([class_weight[y_train[i,0]] for i in range(y_train.shape[0])])"
      ]
    },
    {
      "cell_type": "markdown",
      "metadata": {
        "id": "GTaWmP0AcvdB"
      },
      "source": [
        "to deal with unbalanced dataset one could try to undersple the overrapresented classes but here since the dataset is not big it doesn't work"
      ]
    },
    {
      "cell_type": "code",
      "execution_count": null,
      "metadata": {
        "colab": {
          "base_uri": "https://localhost:8080/"
        },
        "id": "yO6zHGF_hDaP",
        "outputId": "556530ca-e28c-4162-9b9c-2efc246e9361"
      },
      "outputs": [],
      "source": [
        "#if you want to undersample the data doenst work because i've not too much data \n",
        "from imblearn.under_sampling import RandomUnderSampler\n",
        "over_sampler = RandomUnderSampler(random_state=42)\n",
        "x_train, y_train = over_sampler.fit_resample(x_train, y_train[:,0])\n",
        "y_train=y_train.reshape(-1,1)\n",
        "print(x_train.shape,y_train.shape)\n",
        "print(f\"the classes and the number of occurrences are {np.unique(y_train[:,0], return_counts=True)}\")"
      ]
    },
    {
      "cell_type": "markdown",
      "metadata": {
        "id": "_D-nU6LVc8aK"
      },
      "source": [
        "to deal with the unbalanced dataset one could try to oversample the underrepresentad classes but here since the dataset is not big it doesn't work"
      ]
    },
    {
      "cell_type": "code",
      "execution_count": null,
      "metadata": {
        "colab": {
          "base_uri": "https://localhost:8080/"
        },
        "id": "fWxjMBZnhDaP",
        "outputId": "8fa16203-5f05-4bcc-aac8-314bf1a12c85"
      },
      "outputs": [],
      "source": [
        "#if you want to oversample i dont think it's a good idea because i've not too much data \n",
        "from imblearn.over_sampling import RandomOverSampler\n",
        "over_sampler = RandomOverSampler(random_state=42)\n",
        "x_train, y_train = over_sampler.fit_resample(x_train, y_train[:,0])\n",
        "y_train=y_train.reshape(-1,1)\n",
        "print(x_train.shape,y_train.shape)\n",
        "print(f\"the classes and the number of occurrences are {np.unique(y_train[:,0], return_counts=True)}\")\n"
      ]
    },
    {
      "cell_type": "markdown",
      "metadata": {
        "id": "S9o3fDl6dMcX"
      },
      "source": [
        "function to print metrics and confusion matrix given a model to fit"
      ]
    },
    {
      "cell_type": "code",
      "execution_count": 15,
      "metadata": {
        "id": "4rKJ1-CyhDaP"
      },
      "outputs": [],
      "source": [
        "def classificationResults(x_train,x_test,y_train,y_test,models):\n",
        "    if type(models) is not list:\n",
        "        models=[models]\n",
        "    y_train=y_train[:,0]\n",
        "    y_test=y_test[:,0]\n",
        "\n",
        "    for model in models:\n",
        "        print(f\"the model is {model}\")\n",
        "        model.fit(x_train,y_train)\n",
        "        y_pred_train=model.predict(x_train)\n",
        "        y_pred_test=model.predict(x_test)\n",
        "        #print micro results\n",
        "        print(\"Train F1 score micro: \",f1_score(y_train,y_pred_train,average='micro'))\n",
        "        print(\"Train Precision score micro: \",precision_score(y_train,y_pred_train,average='micro'))\n",
        "        print(\"Train Recall score micro: \",recall_score(y_train,y_pred_train,average='micro'))\n",
        "        print(\"Test F1 score micro: \",f1_score(y_test,y_pred_test,average='micro'))\n",
        "        print(\"Test Precision score micro: \",precision_score(y_test,y_pred_test,average='micro'))\n",
        "        print(\"Test Recall score micro: \",recall_score(y_test,y_pred_test,average='micro'))\n",
        "        print(\"------------------------------------------------------------------------------------\")\n",
        "        #print macro results\n",
        "        print(\"Train F1 score: \",f1_score(y_train,y_pred_train,average='macro'))\n",
        "        print(\"Train Precision score: \",precision_score(y_train,y_pred_train,average='macro'))\n",
        "        print(\"Train Recall score: \",recall_score(y_train,y_pred_train,average='macro'))\n",
        "        print(\"Train Accuracy score: \",accuracy_score(y_train,y_pred_train))\n",
        "        print(\"Test F1 score: \",f1_score(y_test,y_pred_test,average='macro'))\n",
        "        print(\"Test Precision score: \",precision_score(y_test,y_pred_test,average='macro'))\n",
        "        print(\"Test Recall score: \",recall_score(y_test,y_pred_test,average='macro'))\n",
        "        print(\"------------------------------------------------------------------------------------\")\n",
        "        #print weighted results\n",
        "        print(\"Train F1 score weighted: \",f1_score(y_train,y_pred_train,average='weighted'))\n",
        "        print(\"Train Precision score weighted: \",precision_score(y_train,y_pred_train,average='weighted'))\n",
        "        print(\"Train Recall score weighted: \",recall_score(y_train,y_pred_train,average='weighted'))\n",
        "        print(\"Test F1 score weighted: \",f1_score(y_test,y_pred_test,average='weighted'))\n",
        "        print(\"Test Precision score weighted: \",precision_score(y_test,y_pred_test,average='weighted'))\n",
        "        print(\"Test Recall score weighted: \",recall_score(y_test,y_pred_test,average='weighted'))\n",
        "        print(\"------------------------------------------------------------------------------------\")\n",
        "        #print accruacy results\n",
        "        print(\"Test Accuracy score: \",accuracy_score(y_test,y_pred_test))\n",
        "        print(\"\\nConfusion Matrix test:\")\n",
        "\n",
        "        cm = confusion_matrix(y_test, y_pred_test)\n",
        "        disp = ConfusionMatrixDisplay(confusion_matrix=cm)\n",
        "        disp.plot()\n",
        "        print(\"\\n\\n\\n\")"
      ]
    },
    {
      "cell_type": "markdown",
      "metadata": {
        "id": "RHHAGAgcdS1F"
      },
      "source": [
        "function to print the metrix given a model to fit"
      ]
    },
    {
      "cell_type": "code",
      "execution_count": null,
      "metadata": {
        "id": "XP0bhe6qhDaQ"
      },
      "outputs": [],
      "source": [
        "def regressionResults(x_train,x_test,y_train,y_test,models,sample_weight=None):\n",
        "    if type(models) is not list:\n",
        "        models=[models]\n",
        "    y_train=y_train[:,1]\n",
        "    y_test=y_test[:,1]\n",
        "    for model in models:\n",
        "        print(f\"the model is {model}\")\n",
        "        model.fit(x_train,y_train)\n",
        "        y_pred_train=model.predict(x_train)\n",
        "        y_pred_test=model.predict(x_test)\n",
        "        print(\"Train MSE: \",np.mean((y_train-y_pred_train)**2))\n",
        "        print(\"Train MAE: \",np.mean(np.abs(y_train-y_pred_train)))\n",
        "        print(\"Test MSE: \",np.mean((y_test-y_pred_test)**2))\n",
        "        print(\"Test MAE: \",np.mean(np.abs(y_test-y_pred_test)))\n",
        "        print(\"Test R2: \",r2_score(y_test,y_pred_test))\n",
        "        print(\"\\n\\n\\n\")\n",
        "    "
      ]
    },
    {
      "cell_type": "code",
      "execution_count": null,
      "metadata": {
        "id": "asK65MxYhDaR"
      },
      "outputs": [],
      "source": []
    },
    {
      "cell_type": "code",
      "execution_count": 16,
      "metadata": {},
      "outputs": [
        {
          "name": "stdout",
          "output_type": "stream",
          "text": [
            "the model is DecisionTreeClassifier()\n",
            "Train F1 score micro:  1.0\n",
            "Train Precision score micro:  1.0\n",
            "Train Recall score micro:  1.0\n",
            "Test F1 score micro:  0.48\n",
            "Test Precision score micro:  0.48\n",
            "Test Recall score micro:  0.48\n",
            "------------------------------------------------------------------------------------\n",
            "Train F1 score:  1.0\n",
            "Train Precision score:  1.0\n",
            "Train Recall score:  1.0\n",
            "Train Accuracy score:  1.0\n",
            "Test F1 score:  0.2517281049262517\n",
            "Test Precision score:  0.25051939827386693\n",
            "Test Recall score:  0.25753727753727756\n",
            "------------------------------------------------------------------------------------\n",
            "Train F1 score weighted:  1.0\n",
            "Train Precision score weighted:  1.0\n",
            "Train Recall score weighted:  1.0\n",
            "Test F1 score weighted:  0.48553806486268714\n",
            "Test Precision score weighted:  0.4936126446042593\n",
            "Test Recall score weighted:  0.48\n",
            "------------------------------------------------------------------------------------\n",
            "Test Accuracy score:  0.48\n",
            "\n",
            "Confusion Matrix test:\n",
            "\n",
            "\n",
            "\n",
            "\n",
            "the model is RandomForestClassifier()\n"
          ]
        },
        {
          "name": "stderr",
          "output_type": "stream",
          "text": [
            "c:\\Users\\Andrea\\AppData\\Local\\Programs\\Python\\Python39\\lib\\site-packages\\sklearn\\metrics\\_classification.py:1334: UndefinedMetricWarning: Precision is ill-defined and being set to 0.0 in labels with no predicted samples. Use `zero_division` parameter to control this behavior.\n",
            "  _warn_prf(average, modifier, msg_start, len(result))\n",
            "c:\\Users\\Andrea\\AppData\\Local\\Programs\\Python\\Python39\\lib\\site-packages\\sklearn\\metrics\\_classification.py:1334: UndefinedMetricWarning: Precision is ill-defined and being set to 0.0 in labels with no predicted samples. Use `zero_division` parameter to control this behavior.\n",
            "  _warn_prf(average, modifier, msg_start, len(result))\n"
          ]
        },
        {
          "name": "stdout",
          "output_type": "stream",
          "text": [
            "Train F1 score micro:  1.0\n",
            "Train Precision score micro:  1.0\n",
            "Train Recall score micro:  1.0\n",
            "Test F1 score micro:  0.556\n",
            "Test Precision score micro:  0.556\n",
            "Test Recall score micro:  0.556\n",
            "------------------------------------------------------------------------------------\n",
            "Train F1 score:  1.0\n",
            "Train Precision score:  1.0\n",
            "Train Recall score:  1.0\n",
            "Train Accuracy score:  1.0\n",
            "Test F1 score:  0.18966480446927375\n",
            "Test Precision score:  0.2050014797277301\n",
            "Test Recall score:  0.21313932980599648\n",
            "------------------------------------------------------------------------------------\n",
            "Train F1 score weighted:  1.0\n",
            "Train Precision score weighted:  1.0\n",
            "Train Recall score weighted:  1.0\n",
            "Test F1 score weighted:  0.47206145251396653\n",
            "Test Precision score weighted:  0.46742349807635397\n",
            "Test Recall score weighted:  0.556\n",
            "------------------------------------------------------------------------------------\n",
            "Test Accuracy score:  0.556\n",
            "\n",
            "Confusion Matrix test:\n",
            "\n",
            "\n",
            "\n",
            "\n",
            "the model is AdaBoostClassifier()\n",
            "Train F1 score micro:  0.43866666666666665\n"
          ]
        },
        {
          "name": "stderr",
          "output_type": "stream",
          "text": [
            "c:\\Users\\Andrea\\AppData\\Local\\Programs\\Python\\Python39\\lib\\site-packages\\sklearn\\metrics\\_classification.py:1334: UndefinedMetricWarning: Precision is ill-defined and being set to 0.0 in labels with no predicted samples. Use `zero_division` parameter to control this behavior.\n",
            "  _warn_prf(average, modifier, msg_start, len(result))\n",
            "c:\\Users\\Andrea\\AppData\\Local\\Programs\\Python\\Python39\\lib\\site-packages\\sklearn\\metrics\\_classification.py:1334: UndefinedMetricWarning: Precision is ill-defined and being set to 0.0 in labels with no predicted samples. Use `zero_division` parameter to control this behavior.\n",
            "  _warn_prf(average, modifier, msg_start, len(result))\n",
            "c:\\Users\\Andrea\\AppData\\Local\\Programs\\Python\\Python39\\lib\\site-packages\\sklearn\\metrics\\_classification.py:1334: UndefinedMetricWarning: Precision is ill-defined and being set to 0.0 in labels with no predicted samples. Use `zero_division` parameter to control this behavior.\n",
            "  _warn_prf(average, modifier, msg_start, len(result))\n",
            "c:\\Users\\Andrea\\AppData\\Local\\Programs\\Python\\Python39\\lib\\site-packages\\sklearn\\metrics\\_classification.py:1334: UndefinedMetricWarning: Precision is ill-defined and being set to 0.0 in labels with no predicted samples. Use `zero_division` parameter to control this behavior.\n",
            "  _warn_prf(average, modifier, msg_start, len(result))\n"
          ]
        },
        {
          "name": "stdout",
          "output_type": "stream",
          "text": [
            "Train Precision score micro:  0.43866666666666665\n",
            "Train Recall score micro:  0.43866666666666665\n",
            "Test F1 score micro:  0.528\n",
            "Test Precision score micro:  0.528\n",
            "Test Recall score micro:  0.528\n",
            "------------------------------------------------------------------------------------\n",
            "Train F1 score:  0.13744125033320706\n",
            "Train Precision score:  0.10937974858405856\n",
            "Train Recall score:  0.1966499162479062\n",
            "Train Accuracy score:  0.43866666666666665\n",
            "Test F1 score:  0.15356813085344942\n",
            "Test Precision score:  0.25098039215686274\n",
            "Test Recall score:  0.19065255731922398\n",
            "------------------------------------------------------------------------------------\n",
            "Train F1 score weighted:  0.33576923832372296\n",
            "Train Precision score weighted:  0.27272385688631023\n",
            "Train Recall score weighted:  0.43866666666666665\n",
            "Test F1 score weighted:  0.4187526711515632\n",
            "Test Precision score weighted:  0.5454117647058825\n",
            "Test Recall score weighted:  0.528\n",
            "------------------------------------------------------------------------------------\n",
            "Test Accuracy score:  0.528\n",
            "\n",
            "Confusion Matrix test:\n",
            "\n",
            "\n",
            "\n",
            "\n",
            "the model is GradientBoostingClassifier()\n"
          ]
        },
        {
          "name": "stderr",
          "output_type": "stream",
          "text": [
            "c:\\Users\\Andrea\\AppData\\Local\\Programs\\Python\\Python39\\lib\\site-packages\\sklearn\\metrics\\_classification.py:1334: UndefinedMetricWarning: Precision is ill-defined and being set to 0.0 in labels with no predicted samples. Use `zero_division` parameter to control this behavior.\n",
            "  _warn_prf(average, modifier, msg_start, len(result))\n",
            "c:\\Users\\Andrea\\AppData\\Local\\Programs\\Python\\Python39\\lib\\site-packages\\sklearn\\metrics\\_classification.py:1334: UndefinedMetricWarning: Precision is ill-defined and being set to 0.0 in labels with no predicted samples. Use `zero_division` parameter to control this behavior.\n",
            "  _warn_prf(average, modifier, msg_start, len(result))\n"
          ]
        },
        {
          "name": "stdout",
          "output_type": "stream",
          "text": [
            "Train F1 score micro:  0.9266666666666666\n",
            "Train Precision score micro:  0.9266666666666666\n",
            "Train Recall score micro:  0.9266666666666666\n",
            "Test F1 score micro:  0.508\n",
            "Test Precision score micro:  0.508\n",
            "Test Recall score micro:  0.508\n",
            "------------------------------------------------------------------------------------\n",
            "Train F1 score:  0.9407556174216285\n",
            "Train Precision score:  0.9735612985514288\n",
            "Train Recall score:  0.9169379178173148\n",
            "Train Accuracy score:  0.9266666666666666\n",
            "Test F1 score:  0.19254012174875484\n",
            "Test Precision score:  0.18937558247903075\n",
            "Test Recall score:  0.20432098765432097\n",
            "------------------------------------------------------------------------------------\n",
            "Train F1 score weighted:  0.925526642630075\n",
            "Train Precision score weighted:  0.9333726907386599\n",
            "Train Recall score weighted:  0.9266666666666666\n",
            "Test F1 score weighted:  0.46440730492529053\n",
            "Test Precision score weighted:  0.4407343895619757\n",
            "Test Recall score weighted:  0.508\n",
            "------------------------------------------------------------------------------------\n",
            "Test Accuracy score:  0.508\n",
            "\n",
            "Confusion Matrix test:\n",
            "\n",
            "\n",
            "\n",
            "\n",
            "the model is LogisticRegression()\n",
            "Train F1 score micro:  0.5293333333333333\n",
            "Train Precision score micro:  0.5293333333333333\n",
            "Train Recall score micro:  0.5293333333333333\n",
            "Test F1 score micro:  0.56\n",
            "Test Precision score micro:  0.56\n",
            "Test Recall score micro:  0.56\n",
            "------------------------------------------------------------------------------------\n",
            "Train F1 score:  0.15819253610325862\n",
            "Train Precision score:  0.19256743256743256\n",
            "Train Recall score:  0.20386456089973679\n",
            "Train Accuracy score:  0.5293333333333333\n",
            "Test F1 score:  0.16466965285554308\n",
            "Test Precision score:  0.1858353510895884\n",
            "Test Recall score:  0.20520282186948852\n",
            "------------------------------------------------------------------------------------\n",
            "Train F1 score weighted:  0.3993890970715637\n",
            "Train Precision score weighted:  0.4275170163170163\n",
            "Train Recall score weighted:  0.5293333333333333\n",
            "Test F1 score weighted:  0.4362329227323628\n",
            "Test Precision score weighted:  0.4360532687651332\n",
            "Test Recall score weighted:  0.56\n",
            "------------------------------------------------------------------------------------\n",
            "Test Accuracy score:  0.56\n",
            "\n",
            "Confusion Matrix test:\n",
            "\n",
            "\n",
            "\n",
            "\n",
            "the model is SVC()\n"
          ]
        },
        {
          "name": "stderr",
          "output_type": "stream",
          "text": [
            "c:\\Users\\Andrea\\AppData\\Local\\Programs\\Python\\Python39\\lib\\site-packages\\sklearn\\metrics\\_classification.py:1334: UndefinedMetricWarning: Precision is ill-defined and being set to 0.0 in labels with no predicted samples. Use `zero_division` parameter to control this behavior.\n",
            "  _warn_prf(average, modifier, msg_start, len(result))\n",
            "c:\\Users\\Andrea\\AppData\\Local\\Programs\\Python\\Python39\\lib\\site-packages\\sklearn\\metrics\\_classification.py:1334: UndefinedMetricWarning: Precision is ill-defined and being set to 0.0 in labels with no predicted samples. Use `zero_division` parameter to control this behavior.\n",
            "  _warn_prf(average, modifier, msg_start, len(result))\n",
            "c:\\Users\\Andrea\\AppData\\Local\\Programs\\Python\\Python39\\lib\\site-packages\\sklearn\\metrics\\_classification.py:1334: UndefinedMetricWarning: Precision is ill-defined and being set to 0.0 in labels with no predicted samples. Use `zero_division` parameter to control this behavior.\n",
            "  _warn_prf(average, modifier, msg_start, len(result))\n",
            "c:\\Users\\Andrea\\AppData\\Local\\Programs\\Python\\Python39\\lib\\site-packages\\sklearn\\metrics\\_classification.py:1334: UndefinedMetricWarning: Precision is ill-defined and being set to 0.0 in labels with no predicted samples. Use `zero_division` parameter to control this behavior.\n",
            "  _warn_prf(average, modifier, msg_start, len(result))\n",
            "c:\\Users\\Andrea\\AppData\\Local\\Programs\\Python\\Python39\\lib\\site-packages\\sklearn\\metrics\\_classification.py:1334: UndefinedMetricWarning: Precision is ill-defined and being set to 0.0 in labels with no predicted samples. Use `zero_division` parameter to control this behavior.\n",
            "  _warn_prf(average, modifier, msg_start, len(result))\n",
            "c:\\Users\\Andrea\\AppData\\Local\\Programs\\Python\\Python39\\lib\\site-packages\\sklearn\\metrics\\_classification.py:1334: UndefinedMetricWarning: Precision is ill-defined and being set to 0.0 in labels with no predicted samples. Use `zero_division` parameter to control this behavior.\n",
            "  _warn_prf(average, modifier, msg_start, len(result))\n"
          ]
        },
        {
          "name": "stdout",
          "output_type": "stream",
          "text": [
            "Train F1 score micro:  0.612\n",
            "Train Precision score micro:  0.612\n",
            "Train Recall score micro:  0.612\n",
            "Test F1 score micro:  0.524\n",
            "Test Precision score micro:  0.524\n",
            "Test Recall score micro:  0.524\n",
            "------------------------------------------------------------------------------------\n",
            "Train F1 score:  0.2308785783907735\n",
            "Train Precision score:  0.47815849781917646\n",
            "Train Recall score:  0.25177744147593395\n",
            "Train Accuracy score:  0.612\n",
            "Test F1 score:  0.14951031350878152\n",
            "Test Precision score:  0.14516536228225196\n",
            "Test Recall score:  0.19026455026455028\n",
            "------------------------------------------------------------------------------------\n",
            "Train F1 score weighted:  0.5250818320008563\n",
            "Train Precision score weighted:  0.6804998891106675\n",
            "Train Recall score weighted:  0.612\n",
            "Test F1 score weighted:  0.4041798982327516\n",
            "Test Precision score weighted:  0.3648159555667761\n",
            "Test Recall score weighted:  0.524\n",
            "------------------------------------------------------------------------------------\n",
            "Test Accuracy score:  0.524\n",
            "\n",
            "Confusion Matrix test:\n",
            "\n",
            "\n",
            "\n",
            "\n",
            "the model is KNeighborsClassifier()\n",
            "Train F1 score micro:  0.6266666666666667\n",
            "Train Precision score micro:  0.6266666666666667\n",
            "Train Recall score micro:  0.6266666666666667\n",
            "Test F1 score micro:  0.436\n",
            "Test Precision score micro:  0.436\n",
            "Test Recall score micro:  0.436\n",
            "------------------------------------------------------------------------------------\n",
            "Train F1 score:  0.2863894210901987\n",
            "Train Precision score:  0.38684664910740413\n",
            "Train Recall score:  0.28710109966391373\n",
            "Train Accuracy score:  0.6266666666666667\n",
            "Test F1 score:  0.16112144065849124\n",
            "Test Precision score:  0.15252623083131558\n",
            "Test Recall score:  0.17340388007054672\n",
            "------------------------------------------------------------------------------------\n",
            "Train F1 score weighted:  0.5837228546026021\n",
            "Train Precision score weighted:  0.6076148083113841\n",
            "Train Recall score weighted:  0.6266666666666667\n",
            "Test F1 score weighted:  0.39800096099609333\n",
            "Test Precision score weighted:  0.36975916061339786\n",
            "Test Recall score weighted:  0.436\n",
            "------------------------------------------------------------------------------------\n",
            "Test Accuracy score:  0.436\n",
            "\n",
            "Confusion Matrix test:\n",
            "\n",
            "\n",
            "\n",
            "\n",
            "the model is GaussianNB()\n",
            "Train F1 score micro:  0.5373333333333333\n",
            "Train Precision score micro:  0.5373333333333333\n",
            "Train Recall score micro:  0.5373333333333333\n",
            "Test F1 score micro:  0.532\n",
            "Test Precision score micro:  0.532\n"
          ]
        },
        {
          "name": "stderr",
          "output_type": "stream",
          "text": [
            "c:\\Users\\Andrea\\AppData\\Local\\Programs\\Python\\Python39\\lib\\site-packages\\sklearn\\metrics\\_classification.py:1334: UndefinedMetricWarning: Precision is ill-defined and being set to 0.0 in labels with no predicted samples. Use `zero_division` parameter to control this behavior.\n",
            "  _warn_prf(average, modifier, msg_start, len(result))\n",
            "c:\\Users\\Andrea\\AppData\\Local\\Programs\\Python\\Python39\\lib\\site-packages\\sklearn\\metrics\\_classification.py:1334: UndefinedMetricWarning: Precision is ill-defined and being set to 0.0 in labels with no predicted samples. Use `zero_division` parameter to control this behavior.\n",
            "  _warn_prf(average, modifier, msg_start, len(result))\n",
            "c:\\Users\\Andrea\\AppData\\Local\\Programs\\Python\\Python39\\lib\\site-packages\\sklearn\\metrics\\_classification.py:1334: UndefinedMetricWarning: Precision is ill-defined and being set to 0.0 in labels with no predicted samples. Use `zero_division` parameter to control this behavior.\n",
            "  _warn_prf(average, modifier, msg_start, len(result))\n",
            "c:\\Users\\Andrea\\AppData\\Local\\Programs\\Python\\Python39\\lib\\site-packages\\sklearn\\metrics\\_classification.py:1334: UndefinedMetricWarning: Precision is ill-defined and being set to 0.0 in labels with no predicted samples. Use `zero_division` parameter to control this behavior.\n",
            "  _warn_prf(average, modifier, msg_start, len(result))\n",
            "c:\\Users\\Andrea\\AppData\\Local\\Programs\\Python\\Python39\\lib\\site-packages\\sklearn\\metrics\\_classification.py:1334: UndefinedMetricWarning: Precision is ill-defined and being set to 0.0 in labels with no predicted samples. Use `zero_division` parameter to control this behavior.\n",
            "  _warn_prf(average, modifier, msg_start, len(result))\n",
            "c:\\Users\\Andrea\\AppData\\Local\\Programs\\Python\\Python39\\lib\\site-packages\\sklearn\\metrics\\_classification.py:1334: UndefinedMetricWarning: Precision is ill-defined and being set to 0.0 in labels with no predicted samples. Use `zero_division` parameter to control this behavior.\n",
            "  _warn_prf(average, modifier, msg_start, len(result))\n",
            "c:\\Users\\Andrea\\AppData\\Local\\Programs\\Python\\Python39\\lib\\site-packages\\sklearn\\metrics\\_classification.py:1334: UndefinedMetricWarning: Precision is ill-defined and being set to 0.0 in labels with no predicted samples. Use `zero_division` parameter to control this behavior.\n",
            "  _warn_prf(average, modifier, msg_start, len(result))\n",
            "c:\\Users\\Andrea\\AppData\\Local\\Programs\\Python\\Python39\\lib\\site-packages\\sklearn\\metrics\\_classification.py:1334: UndefinedMetricWarning: Precision is ill-defined and being set to 0.0 in labels with no predicted samples. Use `zero_division` parameter to control this behavior.\n",
            "  _warn_prf(average, modifier, msg_start, len(result))\n"
          ]
        },
        {
          "name": "stdout",
          "output_type": "stream",
          "text": [
            "Test Recall score micro:  0.532\n",
            "------------------------------------------------------------------------------------\n",
            "Train F1 score:  0.3733700642791552\n",
            "Train Precision score:  0.407959479015919\n",
            "Train Recall score:  0.4096594081518704\n",
            "Train Accuracy score:  0.5373333333333333\n",
            "Test F1 score:  0.15545945945945944\n",
            "Test Precision score:  0.154279176201373\n",
            "Test Recall score:  0.19416225749559082\n",
            "------------------------------------------------------------------------------------\n",
            "Train F1 score weighted:  0.42728129782675245\n",
            "Train Precision score weighted:  0.45711915098890493\n",
            "Train Recall score weighted:  0.5373333333333333\n",
            "Test F1 score weighted:  0.4164064864864864\n",
            "Test Precision score weighted:  0.3822974828375286\n",
            "Test Recall score weighted:  0.532\n",
            "------------------------------------------------------------------------------------\n",
            "Test Accuracy score:  0.532\n",
            "\n",
            "Confusion Matrix test:\n",
            "\n",
            "\n",
            "\n",
            "\n",
            "the model is BaggingClassifier()\n"
          ]
        },
        {
          "name": "stderr",
          "output_type": "stream",
          "text": [
            "c:\\Users\\Andrea\\AppData\\Local\\Programs\\Python\\Python39\\lib\\site-packages\\sklearn\\metrics\\_classification.py:1334: UndefinedMetricWarning: Precision is ill-defined and being set to 0.0 in labels with no predicted samples. Use `zero_division` parameter to control this behavior.\n",
            "  _warn_prf(average, modifier, msg_start, len(result))\n",
            "c:\\Users\\Andrea\\AppData\\Local\\Programs\\Python\\Python39\\lib\\site-packages\\sklearn\\metrics\\_classification.py:1334: UndefinedMetricWarning: Precision is ill-defined and being set to 0.0 in labels with no predicted samples. Use `zero_division` parameter to control this behavior.\n",
            "  _warn_prf(average, modifier, msg_start, len(result))\n",
            "c:\\Users\\Andrea\\AppData\\Local\\Programs\\Python\\Python39\\lib\\site-packages\\sklearn\\metrics\\_classification.py:1334: UndefinedMetricWarning: Precision is ill-defined and being set to 0.0 in labels with no predicted samples. Use `zero_division` parameter to control this behavior.\n",
            "  _warn_prf(average, modifier, msg_start, len(result))\n",
            "c:\\Users\\Andrea\\AppData\\Local\\Programs\\Python\\Python39\\lib\\site-packages\\sklearn\\metrics\\_classification.py:1334: UndefinedMetricWarning: Precision is ill-defined and being set to 0.0 in labels with no predicted samples. Use `zero_division` parameter to control this behavior.\n",
            "  _warn_prf(average, modifier, msg_start, len(result))\n"
          ]
        },
        {
          "name": "stdout",
          "output_type": "stream",
          "text": [
            "Train F1 score micro:  0.976\n",
            "Train Precision score micro:  0.976\n",
            "Train Recall score micro:  0.976\n",
            "Test F1 score micro:  0.492\n",
            "Test Precision score micro:  0.492\n",
            "Test Recall score micro:  0.492\n",
            "------------------------------------------------------------------------------------\n",
            "Train F1 score:  0.9683494789944407\n",
            "Train Precision score:  0.9899353154115482\n",
            "Train Recall score:  0.9501195380592368\n",
            "Train Accuracy score:  0.976\n",
            "Test F1 score:  0.1814986123959297\n",
            "Test Precision score:  0.1753846153846154\n",
            "Test Recall score:  0.19444444444444445\n",
            "------------------------------------------------------------------------------------\n",
            "Train F1 score weighted:  0.9757644388606425\n",
            "Train Precision score weighted:  0.9764603485450913\n",
            "Train Recall score weighted:  0.976\n",
            "Test F1 score weighted:  0.447940795559667\n",
            "Test Precision score weighted:  0.42027692307692305\n",
            "Test Recall score weighted:  0.492\n",
            "------------------------------------------------------------------------------------\n",
            "Test Accuracy score:  0.492\n",
            "\n",
            "Confusion Matrix test:\n",
            "\n",
            "\n",
            "\n",
            "\n",
            "the model is BalancedBaggingClassifier(base_estimator=DecisionTreeClassifier(),\n",
            "                          random_state=0)\n",
            "Train F1 score micro:  0.2906666666666667\n",
            "Train Precision score micro:  0.2906666666666667\n",
            "Train Recall score micro:  0.2906666666666667\n",
            "Test F1 score micro:  0.252\n",
            "Test Precision score micro:  0.252\n",
            "Test Recall score micro:  0.252\n",
            "------------------------------------------------------------------------------------\n",
            "Train F1 score:  0.2157171294416989\n",
            "Train Precision score:  0.24355255473423282\n",
            "Train Recall score:  0.44569689934011547\n",
            "Train Accuracy score:  0.2906666666666667\n",
            "Test F1 score:  0.1519468646803112\n",
            "Test Precision score:  0.2228357047426687\n",
            "Test Recall score:  0.16681257014590348\n",
            "------------------------------------------------------------------------------------\n",
            "Train F1 score weighted:  0.31124926402404296\n",
            "Train Precision score weighted:  0.4523716058177526\n",
            "Train Recall score weighted:  0.2906666666666667\n",
            "Test F1 score weighted:  0.2787424889767844\n",
            "Test Precision score weighted:  0.5042450911151997\n",
            "Test Recall score weighted:  0.252\n",
            "------------------------------------------------------------------------------------\n",
            "Test Accuracy score:  0.252\n",
            "\n",
            "Confusion Matrix test:\n",
            "\n",
            "\n",
            "\n",
            "\n",
            "the model is BalancedRandomForestClassifier(random_state=0)\n"
          ]
        },
        {
          "name": "stderr",
          "output_type": "stream",
          "text": [
            "c:\\Users\\Andrea\\AppData\\Local\\Programs\\Python\\Python39\\lib\\site-packages\\sklearn\\metrics\\_classification.py:1334: UndefinedMetricWarning: Precision is ill-defined and being set to 0.0 in labels with no predicted samples. Use `zero_division` parameter to control this behavior.\n",
            "  _warn_prf(average, modifier, msg_start, len(result))\n",
            "c:\\Users\\Andrea\\AppData\\Local\\Programs\\Python\\Python39\\lib\\site-packages\\sklearn\\metrics\\_classification.py:1334: UndefinedMetricWarning: Precision is ill-defined and being set to 0.0 in labels with no predicted samples. Use `zero_division` parameter to control this behavior.\n",
            "  _warn_prf(average, modifier, msg_start, len(result))\n"
          ]
        },
        {
          "name": "stdout",
          "output_type": "stream",
          "text": [
            "Train F1 score micro:  0.192\n",
            "Train Precision score micro:  0.192\n",
            "Train Recall score micro:  0.192\n",
            "Test F1 score micro:  0.136\n",
            "Test Precision score micro:  0.136\n",
            "Test Recall score micro:  0.136\n",
            "------------------------------------------------------------------------------------\n",
            "Train F1 score:  0.15242628245242915\n",
            "Train Precision score:  0.24394014502151634\n",
            "Train Recall score:  0.4137899924332086\n",
            "Train Accuracy score:  0.192\n",
            "Test F1 score:  0.1009673650939102\n",
            "Test Precision score:  0.19883333333333336\n",
            "Test Recall score:  0.13931537598204263\n",
            "------------------------------------------------------------------------------------\n",
            "Train F1 score weighted:  0.2219163390287746\n",
            "Train Precision score weighted:  0.4794653157644185\n",
            "Train Recall score weighted:  0.192\n",
            "Test F1 score weighted:  0.17726286892683613\n",
            "Test Precision score weighted:  0.43401\n",
            "Test Recall score weighted:  0.136\n",
            "------------------------------------------------------------------------------------\n",
            "Test Accuracy score:  0.136\n",
            "\n",
            "Confusion Matrix test:\n",
            "\n",
            "\n",
            "\n",
            "\n",
            "the model is RUSBoostClassifier()\n",
            "Train F1 score micro:  0.30533333333333335\n",
            "Train Precision score micro:  0.30533333333333335\n",
            "Train Recall score micro:  0.30533333333333335\n",
            "Test F1 score micro:  0.336\n",
            "Test Precision score micro:  0.336\n",
            "Test Recall score micro:  0.336\n",
            "------------------------------------------------------------------------------------\n",
            "Train F1 score:  0.18506018188641563\n",
            "Train Precision score:  0.20080776486604263\n",
            "Train Recall score:  0.19793535459364606\n",
            "Train Accuracy score:  0.30533333333333335\n",
            "Test F1 score:  0.20515572662905535\n",
            "Test Precision score:  0.2208791208791209\n",
            "Test Recall score:  0.23221741221741224\n",
            "------------------------------------------------------------------------------------\n",
            "Train F1 score weighted:  0.33904300576899343\n",
            "Train Precision score weighted:  0.40134472239459174\n",
            "Train Recall score weighted:  0.30533333333333335\n",
            "Test F1 score weighted:  0.3686921026767445\n",
            "Test Precision score weighted:  0.4475018315018315\n",
            "Test Recall score weighted:  0.336\n",
            "------------------------------------------------------------------------------------\n",
            "Test Accuracy score:  0.336\n",
            "\n",
            "Confusion Matrix test:\n",
            "\n",
            "\n",
            "\n",
            "\n",
            "the model is EasyEnsembleClassifier()\n"
          ]
        },
        {
          "name": "stderr",
          "output_type": "stream",
          "text": [
            "c:\\Users\\Andrea\\AppData\\Local\\Programs\\Python\\Python39\\lib\\site-packages\\sklearn\\metrics\\_classification.py:1334: UndefinedMetricWarning: Precision is ill-defined and being set to 0.0 in labels with no predicted samples. Use `zero_division` parameter to control this behavior.\n",
            "  _warn_prf(average, modifier, msg_start, len(result))\n",
            "c:\\Users\\Andrea\\AppData\\Local\\Programs\\Python\\Python39\\lib\\site-packages\\sklearn\\metrics\\_classification.py:1334: UndefinedMetricWarning: Precision is ill-defined and being set to 0.0 in labels with no predicted samples. Use `zero_division` parameter to control this behavior.\n",
            "  _warn_prf(average, modifier, msg_start, len(result))\n",
            "c:\\Users\\Andrea\\AppData\\Local\\Programs\\Python\\Python39\\lib\\site-packages\\sklearn\\metrics\\_classification.py:1334: UndefinedMetricWarning: Precision is ill-defined and being set to 0.0 in labels with no predicted samples. Use `zero_division` parameter to control this behavior.\n",
            "  _warn_prf(average, modifier, msg_start, len(result))\n",
            "c:\\Users\\Andrea\\AppData\\Local\\Programs\\Python\\Python39\\lib\\site-packages\\sklearn\\metrics\\_classification.py:1334: UndefinedMetricWarning: Precision is ill-defined and being set to 0.0 in labels with no predicted samples. Use `zero_division` parameter to control this behavior.\n",
            "  _warn_prf(average, modifier, msg_start, len(result))\n"
          ]
        },
        {
          "name": "stdout",
          "output_type": "stream",
          "text": [
            "Train F1 score micro:  0.19866666666666663\n",
            "Train Precision score micro:  0.19866666666666666\n",
            "Train Recall score micro:  0.19866666666666666\n",
            "Test F1 score micro:  0.20000000000000004\n",
            "Test Precision score micro:  0.2\n",
            "Test Recall score micro:  0.2\n",
            "------------------------------------------------------------------------------------\n",
            "Train F1 score:  0.14725558618838258\n",
            "Train Precision score:  0.2582513728278476\n",
            "Train Recall score:  0.42070697761652537\n",
            "Train Accuracy score:  0.19866666666666666\n",
            "Test F1 score:  0.13707981986298687\n",
            "Test Precision score:  0.2515101177891876\n",
            "Test Recall score:  0.2645085778419112\n",
            "------------------------------------------------------------------------------------\n",
            "Train F1 score weighted:  0.2301225913089995\n",
            "Train Precision score weighted:  0.49414025201928596\n",
            "Train Recall score weighted:  0.19866666666666666\n",
            "Test F1 score weighted:  0.2397184885352936\n",
            "Test Precision score weighted:  0.5122591362126246\n",
            "Test Recall score weighted:  0.2\n",
            "------------------------------------------------------------------------------------\n",
            "Test Accuracy score:  0.2\n",
            "\n",
            "Confusion Matrix test:\n",
            "\n",
            "\n",
            "\n",
            "\n"
          ]
        },
        {
          "data": {
            "image/png": "[encoded data removed]",
            "text/plain": [
              "<Figure size 432x288 with 2 Axes>"
            ]
          },
          "metadata": {
            "needs_background": "light"
          },
          "output_type": "display_data"
        },
        {
          "data": {
            "image/png": "[encoded data removed]",
            "text/plain": [
              "<Figure size 432x288 with 2 Axes>"
            ]
          },
          "metadata": {
            "needs_background": "light"
          },
          "output_type": "display_data"
        },
        {
          "data": {
            "image/png": "[encoded data removed]",
            "text/plain": [
              "<Figure size 432x288 with 2 Axes>"
            ]
          },
          "metadata": {
            "needs_background": "light"
          },
          "output_type": "display_data"
        },
        {
          "data": {
            "image/png": "[encoded data removed]",
            "text/plain": [
              "<Figure size 432x288 with 2 Axes>"
            ]
          },
          "metadata": {
            "needs_background": "light"
          },
          "output_type": "display_data"
        },
        {
          "data": {
            "image/png": "[encoded data removed]",
            "text/plain": [
              "<Figure size 432x288 with 2 Axes>"
            ]
          },
          "metadata": {
            "needs_background": "light"
          },
          "output_type": "display_data"
        },
        {
          "data": {
            "image/png": "[encoded data removed]",
            "text/plain": [
              "<Figure size 432x288 with 2 Axes>"
            ]
          },
          "metadata": {
            "needs_background": "light"
          },
          "output_type": "display_data"
        },
        {
          "data": {
            "image/png": "[encoded data removed]",
            "text/plain": [
              "<Figure size 432x288 with 2 Axes>"
            ]
          },
          "metadata": {
            "needs_background": "light"
          },
          "output_type": "display_data"
        },
        {
          "data": {
            "image/png": "[encoded data removed]",
            "text/plain": [
              "<Figure size 432x288 with 2 Axes>"
            ]
          },
          "metadata": {
            "needs_background": "light"
          },
          "output_type": "display_data"
        },
        {
          "data": {
            "image/png": "[encoded data removed]",
            "text/plain": [
              "<Figure size 432x288 with 2 Axes>"
            ]
          },
          "metadata": {
            "needs_background": "light"
          },
          "output_type": "display_data"
        },
        {
          "data": {
            "image/png": "[encoded data removed]",
            "text/plain": [
              "<Figure size 432x288 with 2 Axes>"
            ]
          },
          "metadata": {
            "needs_background": "light"
          },
          "output_type": "display_data"
        },
        {
          "data": {
            "image/png": "[encoded data removed]",
            "text/plain": [
              "<Figure size 432x288 with 2 Axes>"
            ]
          },
          "metadata": {
            "needs_background": "light"
          },
          "output_type": "display_data"
        },
        {
          "data": {
            "image/png": "[encoded data removed]",
            "text/plain": [
              "<Figure size 432x288 with 2 Axes>"
            ]
          },
          "metadata": {
            "needs_background": "light"
          },
          "output_type": "display_data"
        },
        {
          "data": {
            "image/png": "[encoded data removed]",
            "text/plain": [
              "<Figure size 432x288 with 2 Axes>"
            ]
          },
          "metadata": {
            "needs_background": "light"
          },
          "output_type": "display_data"
        }
      ],
      "source": [
        "#test all classification models\n",
        "from sklearn import tree\n",
        "from sklearn.ensemble import RandomForestClassifier\n",
        "from sklearn.ensemble import AdaBoostClassifier\n",
        "from sklearn.ensemble import GradientBoostingClassifier\n",
        "from sklearn.linear_model import LogisticRegression\n",
        "from sklearn.svm import SVC\n",
        "from sklearn.neighbors import KNeighborsClassifier\n",
        "from sklearn.naive_bayes import GaussianNB\n",
        "from sklearn.ensemble import BaggingClassifier\n",
        "from imblearn.ensemble import BalancedBaggingClassifier\n",
        "from imblearn.ensemble import BalancedRandomForestClassifier\n",
        "from imblearn.ensemble import RUSBoostClassifier\n",
        "from imblearn.ensemble import EasyEnsembleClassifier\n",
        "\n",
        "models=[\n",
        "tree.DecisionTreeClassifier(),\n",
        "RandomForestClassifier(),\n",
        "AdaBoostClassifier(),\n",
        "GradientBoostingClassifier(),\n",
        "LogisticRegression(),\n",
        "SVC(),\n",
        "KNeighborsClassifier(),\n",
        "GaussianNB(),\n",
        "BaggingClassifier(),\n",
        "BalancedBaggingClassifier(base_estimator=tree.DecisionTreeClassifier(),sampling_strategy='auto',replacement=False,random_state=0),\n",
        "BalancedRandomForestClassifier(n_estimators=100,random_state=0),\n",
        "RUSBoostClassifier(),\n",
        "EasyEnsembleClassifier()]\n",
        "\n",
        "classificationResults(x_train,x_test,y_train,y_test,models)\n"
      ]
    },
    {
      "cell_type": "code",
      "execution_count": null,
      "metadata": {},
      "outputs": [],
      "source": [
        "# import random parametes search\n",
        "from sklearn.model_selection import RandomizedSearchCV\n",
        "#random hyperparameters search for svm \n",
        "model= SVC()\n",
        "\n",
        "param_grid = {'C': [0.1, 1, 10, 100, 1000],\n",
        "                'gamma': [1, 0.1, 0.01, 0.001, 0.0001], \n",
        "                'kernel': ['rbf', 'linear', 'poly', 'rbf', 'linear'],\n",
        "                'degree':[1,2,3,4,5,6,7,8,9,10],\n",
        "                'class_weight':['balanced',None],\n",
        "                'decision_function_shape':['ovo','ovr']\n",
        "                }\n",
        "random_search = RandomizedSearchCV(model, param_grid, n_iter=10, cv=5, verbose=2, random_state=42, n_jobs = -1)\n",
        "random_search.fit(x_train, y_train[:,0])\n",
        "print(random_search.best_params_)\n",
        "print(random_search.best_score_)\n",
        "print(random_search.best_estimator_)\n",
        "# classificationResults(x_train,x_test,y_train,y_test,random_search.best_estimator_)\n",
        "\n",
        "\n"
      ]
    },
    {
      "cell_type": "code",
      "execution_count": null,
      "metadata": {},
      "outputs": [],
      "source": [
        "\n",
        "from sklearn.model_selection import GridSearchCV\n",
        "from sklearn.ensemble import RandomForestClassifier\n",
        "parameters={'n_estimators':[10,50,100,200,500],'max_depth':[5,10,20,50,100],\\\n",
        "            'min_samples_split':[2,5,10,20,50],'min_samples_leaf':[1,2,5,10,20],\\\n",
        "            'criterion':['gini','entropy',\"log_loss\"]}\n",
        "model=RandomForestClassifier()\n",
        "\n",
        "clf = GridSearchCV(model, parameters)\n",
        "clf.fit(x_train, y_train[:,0])\n",
        "\n",
        "print(clf.best_params_)\n",
        "print(clf.best_score_)\n"
      ]
    },
    {
      "cell_type": "code",
      "execution_count": null,
      "metadata": {
        "colab": {
          "base_uri": "https://localhost:8080/"
        },
        "id": "BLQ_rsf2-gbh",
        "outputId": "e4b78712-6309-4d65-febe-3495d85ac3e2"
      },
      "outputs": [],
      "source": [
        "# from sklearn.model_selection import GridSearchCV\n",
        "# from sklearn import svm\n",
        "# parameters={'kernel':('linear', 'poly' ,\"rbf\",\"sigmoid\"),'gamma':[\"scale\",\"auto\"],'class_weight':[None,\"balanced\"]}\n",
        "\n",
        "\n",
        "# model=svm.SVC()\n",
        "\n",
        "# clf = GridSearchCV(model, parameters)\n",
        "# clf.fit(x_train, y_train[:,0])\n",
        "\n",
        "# print(clf.best_params_)\n",
        "# print(clf.best_score_)\n"
      ]
    },
    {
      "cell_type": "code",
      "execution_count": null,
      "metadata": {
        "colab": {
          "base_uri": "https://localhost:8080/"
        },
        "id": "KE6l3Sm3jlfq",
        "outputId": "7fcb7fb5-5dcf-4a79-fbb4-98c13d8a1c81"
      },
      "outputs": [],
      "source": [
        "# from sklearn.ensemble import AdaBoostClassifier\n",
        "# model=AdaBoostClassifier()\n",
        "# print(f\" those are the parameters to optimize {model.get_params()}\")\n",
        "# parameters={\"n_estimators\":[10,5,20,50,100,200,500,1000],\"learning_rate\":[0.01,0.001,0.0001,0.05,0.1,0.2,0.5,1]}\n",
        "# clf = GridSearchCV(model, parameters)\n",
        "# clf.fit(x_train, y_train[:,0])\n",
        "\n",
        "# print(clf.best_params_)\n",
        "# print(clf.best_score_)\n"
      ]
    },
    {
      "cell_type": "code",
      "execution_count": null,
      "metadata": {
        "id": "ZLSKxw0-hDaT"
      },
      "outputs": [],
      "source": [
        "#test all regression models\n",
        "from sklearn.ensemble import RandomForestRegressor\n",
        "from sklearn.ensemble import AdaBoostRegressor\n",
        "from sklearn.ensemble import GradientBoostingRegressor\n",
        "from sklearn.linear_model import LinearRegression\n",
        "from sklearn.svm import SVR\n",
        "from sklearn.neighbors import KNeighborsRegressor\n",
        "from sklearn.tree import DecisionTreeRegressor\n",
        "models=[RandomForestRegressor(),AdaBoostRegressor(),GradientBoostingRegressor(),\\\n",
        "LinearRegression(),SVR(),KNeighborsRegressor(),DecisionTreeRegressor()]\n",
        "regressionResults(x_train,x_test,y_train,y_test,models)"
      ]
    }
  ],
  "metadata": {
    "colab": {
      "provenance": []
    },
    "kernelspec": {
      "display_name": "Python 3.9.2 64-bit",
      "language": "python",
      "name": "python3"
    },
    "language_info": {
      "codemirror_mode": {
        "name": "ipython",
        "version": 3
      },
      "file_extension": ".py",
      "mimetype": "text/x-python",
      "name": "python",
      "nbconvert_exporter": "python",
      "pygments_lexer": "ipython3",
      "version": "3.9.2"
    },
    "orig_nbformat": 4,
    "vscode": {
      "interpreter": {
        "hash": "05c73f36370b37d7956a45e693a83b97388709ec0b54883dc202775cd3dcb887"
      }
    }
  },
  "nbformat": 4,
  "nbformat_minor": 0
}
