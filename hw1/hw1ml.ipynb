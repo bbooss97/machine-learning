{
  "cells": [
    {
      "cell_type": "code",
      "source": [
        "from google.colab import drive\n",
        "drive.mount('/gdrive')"
      ],
      "metadata": {
        "colab": {
          "base_uri": "https://localhost:8080/"
        },
        "id": "GEmuyc0zhE4z",
        "outputId": "b8d7cad3-b933-49ef-be96-850b866d6bc8"
      },
      "execution_count": 2,
      "outputs": [
        {
          "output_type": "stream",
          "name": "stdout",
          "text": [
            "Mounted at /gdrive\n"
          ]
        }
      ]
    },
    {
      "cell_type": "code",
      "source": [
        "%cd ../gdrive/MyDrive/hw1ml/"
      ],
      "metadata": {
        "colab": {
          "base_uri": "https://localhost:8080/"
        },
        "id": "U6cRVDCmhsyO",
        "outputId": "8b2ae530-0a7b-4ea2-aa5d-63c5a2df4d28"
      },
      "execution_count": 3,
      "outputs": [
        {
          "output_type": "stream",
          "name": "stdout",
          "text": [
            "/gdrive/MyDrive/hw1ml\n"
          ]
        }
      ]
    },
    {
      "cell_type": "code",
      "source": [
        "%ls\n"
      ],
      "metadata": {
        "colab": {
          "base_uri": "https://localhost:8080/"
        },
        "id": "BDnbPCj9hGp5",
        "outputId": "6dde63b2-824d-4401-c2fc-364088d20ab2"
      },
      "execution_count": 4,
      "outputs": [
        {
          "output_type": "stream",
          "name": "stdout",
          "text": [
            "'ML Homework 1 Multi-UAV conflict risk analysis.pdf'   train_set.tsv\n",
            " notebook.ipynb\n"
          ]
        }
      ]
    },
    {
      "cell_type": "markdown",
      "source": [
        "read the dataset"
      ],
      "metadata": {
        "id": "pGsNEBuEckxV"
      }
    },
    {
      "cell_type": "code",
      "execution_count": 5,
      "metadata": {
        "id": "0At4GZMPhDaM"
      },
      "outputs": [],
      "source": [
        "import pandas as pd\n",
        "import numpy as np\n",
        "from sklearn.metrics import f1_score\n",
        "from sklearn.metrics import precision_score\n",
        "from sklearn.metrics import recall_score\n",
        "from sklearn.metrics import accuracy_score\n",
        "from sklearn.metrics import ConfusionMatrixDisplay, confusion_matrix\n",
        "from sklearn.preprocessing import MinMaxScaler, StandardScaler\n",
        "from sklearn.model_selection import GridSearchCV\n",
        "import random\n",
        "\n",
        "#make everything reproducible\n",
        "random.seed(100)\n",
        "np.random.seed(100)\n",
        "\n",
        "\n",
        "dataset=pd.read_csv(\"train_set.tsv\", sep='\\t', header=0)\n",
        "dataset_numpy=dataset.to_numpy()\n",
        "x=dataset_numpy[:,:-2]\n",
        "y=dataset_numpy[:,-2:]\n",
        "\n"
      ]
    },
    {
      "cell_type": "markdown",
      "source": [
        "use the minmax scaler"
      ],
      "metadata": {
        "id": "sKDdyoIAcfmZ"
      }
    },
    {
      "cell_type": "code",
      "execution_count": null,
      "metadata": {
        "id": "p7lqnkF5hDaN"
      },
      "outputs": [],
      "source": [
        "scaler = MinMaxScaler()\n",
        "scaler.fit(x)\n",
        "x=scaler.transform(x)"
      ]
    },
    {
      "cell_type": "markdown",
      "source": [
        "use the standard scaler"
      ],
      "metadata": {
        "id": "Mk10t--Achxo"
      }
    },
    {
      "cell_type": "code",
      "source": [
        "scaler = StandardScaler()\n",
        "scaler.fit(x)\n",
        "x=scaler.transform(x)\n"
      ],
      "metadata": {
        "id": "cN1QjNSGcZOS"
      },
      "execution_count": null,
      "outputs": []
    },
    {
      "cell_type": "markdown",
      "source": [
        "if you want to normalize the data"
      ],
      "metadata": {
        "id": "0bmQSJSSr_qr"
      }
    },
    {
      "cell_type": "code",
      "source": [
        "from sklearn.preprocessing import normalize\n",
        "x=normalize(x)"
      ],
      "metadata": {
        "id": "o7oZRiAAsC5a"
      },
      "execution_count": null,
      "outputs": []
    },
    {
      "cell_type": "markdown",
      "source": [
        "trying to use pca features"
      ],
      "metadata": {
        "id": "lz4B9FtkuEMK"
      }
    },
    {
      "cell_type": "code",
      "source": [
        "\n",
        "from sklearn.decomposition import PCA\n",
        "\n",
        "pca = PCA(n_components=4)\n",
        "x = pca.fit_transform(x)"
      ],
      "metadata": {
        "id": "ZCQ-nkbEt_pE"
      },
      "execution_count": null,
      "outputs": []
    },
    {
      "cell_type": "markdown",
      "source": [
        "trying to descretize\n"
      ],
      "metadata": {
        "id": "PoZPWUS50CEs"
      }
    },
    {
      "cell_type": "code",
      "source": [
        "from sklearn.preprocessing import KBinsDiscretizer\n"
      ],
      "metadata": {
        "id": "vtP2pBDJ0EHd"
      },
      "execution_count": null,
      "outputs": []
    },
    {
      "cell_type": "markdown",
      "source": [
        "trying to extract nonlinear features"
      ],
      "metadata": {
        "id": "knLOg3BB0YxM"
      }
    },
    {
      "cell_type": "code",
      "source": [
        "from sklearn.preprocessing import QuantileTransformer\n",
        "x=QuantileTransformer().fit_transform(x)"
      ],
      "metadata": {
        "id": "US4tmNO70b4O"
      },
      "execution_count": null,
      "outputs": []
    },
    {
      "cell_type": "markdown",
      "source": [
        "split the dataset"
      ],
      "metadata": {
        "id": "cmYXeJuDcpFI"
      }
    },
    {
      "cell_type": "code",
      "execution_count": null,
      "metadata": {
        "colab": {
          "base_uri": "https://localhost:8080/"
        },
        "id": "oJ9HvBZjhDaO",
        "outputId": "e75716f7-c8ea-4e4b-c8ee-5d0c7aa64ca2"
      },
      "outputs": [
        {
          "output_type": "stream",
          "name": "stdout",
          "text": [
            "(750, 35) (750, 2) (250, 35) (250, 2)\n",
            "the classes and the number of occurrences in the train set are (array([0., 1., 2., 3., 4.]), array([398, 252,  74,  24,   2]))\n",
            "the classes and the number of occurrences in the test set are (array([0., 1., 2., 3., 4.]), array([140,  81,  22,   6,   1]))\n"
          ]
        }
      ],
      "source": [
        "from sklearn.model_selection import train_test_split\n",
        "x_train, x_test, y_train, y_test = train_test_split(x, y,random_state=100)\n",
        "print(x_train.shape, y_train.shape, x_test.shape, y_test.shape)\n",
        "print(f\"the classes and the number of occurrences in the train set are {np.unique(y_train[:,0], return_counts=True)}\")\n",
        "print(f\"the classes and the number of occurrences in the test set are {np.unique(y_test[:,0], return_counts=True)}\")"
      ]
    },
    {
      "cell_type": "markdown",
      "source": [
        "to deal with unbalanced dataset one could try to undersple the overrapresented classes but here since the dataset is not big it doesn't work"
      ],
      "metadata": {
        "id": "GTaWmP0AcvdB"
      }
    },
    {
      "cell_type": "code",
      "execution_count": null,
      "metadata": {
        "id": "yO6zHGF_hDaP",
        "colab": {
          "base_uri": "https://localhost:8080/"
        },
        "outputId": "556530ca-e28c-4162-9b9c-2efc246e9361"
      },
      "outputs": [
        {
          "output_type": "execute_result",
          "data": {
            "text/plain": [
              "((5, 35), (5, 1))"
            ]
          },
          "metadata": {},
          "execution_count": 10
        }
      ],
      "source": [
        "#if you want to undersample the data doenst work because i've not too much data \n",
        "from imblearn.under_sampling import RandomUnderSampler\n",
        "over_sampler = RandomUnderSampler(random_state=42)\n",
        "x_train, y_train = over_sampler.fit_resample(x_train, y_train[:,0])\n",
        "y_train=y_train.reshape(-1,1)\n",
        "print(x_train.shape,y_train.shape)\n",
        "print(f\"the classes and the number of occurrences are {np.unique(y_train[:,0], return_counts=True)}\")"
      ]
    },
    {
      "cell_type": "markdown",
      "source": [
        "to deal with the unbalanced dataset one could try to oversample the underrepresentad classes but here since the dataset is not big it doesn't work"
      ],
      "metadata": {
        "id": "_D-nU6LVc8aK"
      }
    },
    {
      "cell_type": "code",
      "execution_count": null,
      "metadata": {
        "id": "fWxjMBZnhDaP",
        "colab": {
          "base_uri": "https://localhost:8080/"
        },
        "outputId": "8fa16203-5f05-4bcc-aac8-314bf1a12c85"
      },
      "outputs": [
        {
          "output_type": "stream",
          "name": "stdout",
          "text": [
            "(1990, 35) (1990, 1)\n",
            "the classes and the number of occurrences are (array([0., 1., 2., 3., 4.]), array([398, 398, 398, 398, 398]))\n"
          ]
        }
      ],
      "source": [
        "#if you want to oversample i dont think it's a good idea because i've not too much data \n",
        "from imblearn.over_sampling import RandomOverSampler\n",
        "over_sampler = RandomOverSampler(random_state=42)\n",
        "x_train, y_train = over_sampler.fit_resample(x_train, y_train[:,0])\n",
        "y_train=y_train.reshape(-1,1)\n",
        "print(x_train.shape,y_train.shape)\n",
        "print(f\"the classes and the number of occurrences are {np.unique(y_train[:,0], return_counts=True)}\")\n"
      ]
    },
    {
      "cell_type": "markdown",
      "source": [
        "function to print metrics and confusion matrix given a model to fit"
      ],
      "metadata": {
        "id": "S9o3fDl6dMcX"
      }
    },
    {
      "cell_type": "code",
      "execution_count": null,
      "metadata": {
        "id": "4rKJ1-CyhDaP"
      },
      "outputs": [],
      "source": [
        "def classificationResults(x_train,x_test,y_train,y_test,models):\n",
        "    if y_train.shape[1]>1:\n",
        "        model.fit(x_train,y_train[:,0])\n",
        "        y_pred_train=model.predict(x_train)\n",
        "        y_pred_test=model.predict(x_test)\n",
        "        print(\"Train F1 score: \",f1_score(y_train[:,0],y_pred_train,average='micro'))\n",
        "        print(\"Train Precision score: \",precision_score(y_train[:,0],y_pred_train,average='micro'))\n",
        "        print(\"Train Recall score: \",recall_score(y_train[:,0],y_pred_train,average='micro'))\n",
        "        print(\"Test F1 score: \",f1_score(y_test[:,0],y_pred_test,average='micro'))\n",
        "        print(\"Test Precision score: \",precision_score(y_test[:,0],y_pred_test,average='micro'))\n",
        "        print(\"Test Recall score: \",recall_score(y_test[:,0],y_pred_test,average='micro'))\n",
        "        print(\"\\nConfusion Matrix test:\")\n",
        "\n",
        "        cm = confusion_matrix(y_test[:,0], y_pred_test)\n",
        "        disp = ConfusionMatrixDisplay(confusion_matrix=cm)\n",
        "        disp.plot()\n",
        "    else:\n",
        "        model.fit(x_train,y_train)\n",
        "        y_pred_train=model.predict(x_train)\n",
        "        y_pred_test=model.predict(x_test)\n",
        "        print(\"Train F1 score: \",f1_score(y_train,y_pred_train,average='micro'))\n",
        "        print(\"Train Precision score: \",precision_score(y_train,y_pred_train,average='micro'))\n",
        "        print(\"Train Recall score: \",recall_score(y_train,y_pred_train,average='micro'))\n",
        "        print(\"Test F1 score: \",f1_score(y_test[:,0],y_pred_test,average='micro'))\n",
        "        print(\"Test Precision score: \",precision_score(y_test[:,0],y_pred_test,average='micro'))\n",
        "        print(\"Test Recall score: \",recall_score(y_test[:,0],y_pred_test,average='micro'))\n",
        "        print(\"\\nConfusion Matrix test:\")\n",
        "\n",
        "        cm = confusion_matrix(y_test[:,0], y_pred_test)\n",
        "        disp = ConfusionMatrixDisplay(confusion_matrix=cm)\n",
        "        disp.plot()\n"
      ]
    },
    {
      "cell_type": "markdown",
      "source": [
        "function to print the metrix given a model to fit"
      ],
      "metadata": {
        "id": "RHHAGAgcdS1F"
      }
    },
    {
      "cell_type": "code",
      "execution_count": null,
      "metadata": {
        "id": "XP0bhe6qhDaQ"
      },
      "outputs": [],
      "source": [
        "def regressionResults(x_train,x_test,y_train,y_test,model):\n",
        "    model.fit(x_train,y_train[:,1])\n",
        "    y_pred_train=model.predict(x_train)\n",
        "    y_pred_test=model.predict(x_test)\n",
        "    print(\"Train MSE: \",np.mean((y_train[:,1]-y_pred_train)**2))\n",
        "    print(\"Train MAE: \",np.mean(np.abs(y_train[:,1]-y_pred_train)))\n",
        "    print(\"Test MSE: \",np.mean((y_test[:,1]-y_pred_test)**2))\n",
        "    print(\"Test MAE: \",np.mean(np.abs(y_test[:,1]-y_pred_test)))\n",
        "    "
      ]
    },
    {
      "cell_type": "code",
      "execution_count": null,
      "metadata": {
        "id": "asK65MxYhDaR"
      },
      "outputs": [],
      "source": [
        "\n",
        "# from sklearn.model_selection import GridSearchCV\n",
        "# from sklearn.ensemble import RandomForestClassifier\n",
        "# parameters={'n_estimators':[10,50,100,200,500],'max_depth':[5,10,20,50,100],\\\n",
        "#             'min_samples_split':[2,5,10,20,50],'min_samples_leaf':[1,2,5,10,20],\\\n",
        "#             'criterion':['gini','entropy',\"log_loss\"]}\n",
        "# model=RandomForestClassifier()\n",
        "\n",
        "# clf = GridSearchCV(model, parameters)\n",
        "# clf.fit(x_train, y_train[:,0])\n",
        "\n",
        "# print(clf.best_params_)\n",
        "# print(clf.best_score_)\n"
      ]
    },
    {
      "cell_type": "code",
      "execution_count": null,
      "metadata": {
        "id": "KTHqAwBuhDaR"
      },
      "outputs": [],
      "source": [
        "\n",
        "from sklearn import tree\n",
        "model=tree.DecisionTreeClassifier()\n",
        "classificationResults(x_train,x_test,y_train,y_test,model)\n",
        "\n",
        "#there is a lot of overfitting because decision trees try to memorize the dataset so i try to use random forest to tackle this problem "
      ]
    },
    {
      "cell_type": "code",
      "execution_count": null,
      "metadata": {
        "id": "9Pugj90jhDaS",
        "colab": {
          "base_uri": "https://localhost:8080/",
          "height": 435
        },
        "outputId": "319721d0-1344-4a40-aef1-ff0d6159b93c"
      },
      "outputs": [
        {
          "output_type": "stream",
          "name": "stderr",
          "text": [
            "/usr/local/lib/python3.7/dist-packages/ipykernel_launcher.py:18: DataConversionWarning: A column-vector y was passed when a 1d array was expected. Please change the shape of y to (n_samples,), for example using ravel().\n"
          ]
        },
        {
          "output_type": "stream",
          "name": "stdout",
          "text": [
            "Train F1 score:  1.0\n",
            "Train Precision score:  1.0\n",
            "Train Recall score:  1.0\n",
            "Test F1 score:  0.528\n",
            "Test Precision score:  0.528\n",
            "Test Recall score:  0.528\n",
            "\n",
            "Confusion Matrix test:\n"
          ]
        },
        {
          "output_type": "display_data",
          "data": {
            "text/plain": [
              "<Figure size 432x288 with 2 Axes>"
            ],
            "image/png": "[encoded data removed]"
          },
          "metadata": {
            "needs_background": "light"
          }
        }
      ],
      "source": [
        "from sklearn.ensemble import RandomForestClassifier\n",
        "model=RandomForestClassifier()\n",
        "classificationResults(x_train,x_test,y_train,y_test,model)\n",
        "\n"
      ]
    },
    {
      "cell_type": "code",
      "execution_count": null,
      "metadata": {
        "id": "VZUO4uI0hDaS"
      },
      "outputs": [],
      "source": [
        "from sklearn.linear_model import LogisticRegression\n",
        "model=LogisticRegression(max_iter=1000)\n",
        "classificationResults(x_train,x_test,y_train,y_test,model)"
      ]
    },
    {
      "cell_type": "code",
      "execution_count": null,
      "metadata": {
        "id": "HrPqcqEahDaS"
      },
      "outputs": [],
      "source": [
        "from sklearn.naive_bayes import GaussianNB\n",
        "model=GaussianNB()\n",
        "classificationResults(x_train,x_test,y_train,y_test,model)"
      ]
    },
    {
      "cell_type": "code",
      "source": [
        "from sklearn.model_selection import GridSearchCV\n",
        "from sklearn import svm\n",
        "parameters={'kernel':('linear', 'poly' ,\"rbf\",\"sigmoid\"),'gamma':[\"scale\",\"auto\"],'class_weight':[None,\"balanced\"]}\n",
        "\n",
        "\n",
        "model=svm.SVC()\n",
        "\n",
        "clf = GridSearchCV(model, parameters)\n",
        "clf.fit(x_train, y_train[:,0])\n",
        "\n",
        "print(clf.best_params_)\n",
        "print(clf.best_score_)\n"
      ],
      "metadata": {
        "colab": {
          "base_uri": "https://localhost:8080/"
        },
        "id": "BLQ_rsf2-gbh",
        "outputId": "e4b78712-6309-4d65-febe-3495d85ac3e2"
      },
      "execution_count": null,
      "outputs": [
        {
          "output_type": "stream",
          "name": "stderr",
          "text": [
            "/usr/local/lib/python3.7/dist-packages/sklearn/model_selection/_split.py:680: UserWarning: The least populated class in y has only 2 members, which is less than n_splits=5.\n",
            "  UserWarning,\n"
          ]
        },
        {
          "output_type": "stream",
          "name": "stdout",
          "text": [
            "{'class_weight': None, 'gamma': 'scale', 'kernel': 'linear'}\n",
            "0.5466666666666666\n"
          ]
        }
      ]
    },
    {
      "cell_type": "code",
      "source": [
        "from sklearn import svm\n",
        "parameters={}\n",
        "model=svm.SVC()\n",
        "clf = GridSearchCV(model, parameters)\n",
        "clf.fit(x_train, y_train[:,0])\n",
        "\n",
        "print(clf.best_params_)\n",
        "print(clf.best_score_)\n"
      ],
      "metadata": {
        "id": "M0fyOEet9O4l",
        "colab": {
          "base_uri": "https://localhost:8080/"
        },
        "outputId": "daa93e26-f461-45ff-d8ce-aedefb4a16ce"
      },
      "execution_count": null,
      "outputs": [
        {
          "output_type": "stream",
          "name": "stderr",
          "text": [
            "/usr/local/lib/python3.7/dist-packages/sklearn/model_selection/_split.py:680: UserWarning: The least populated class in y has only 2 members, which is less than n_splits=5.\n",
            "  UserWarning,\n"
          ]
        },
        {
          "output_type": "stream",
          "name": "stdout",
          "text": [
            "{}\n",
            "0.3973333333333333\n"
          ]
        }
      ]
    },
    {
      "cell_type": "code",
      "execution_count": null,
      "metadata": {
        "id": "OMO_vQMVhDaS"
      },
      "outputs": [],
      "source": [
        "from sklearn import svm\n",
        "model=svm.SVC()\n",
        "classificationResults(x_train,x_test,y_train,y_test,model)"
      ]
    },
    {
      "cell_type": "code",
      "execution_count": null,
      "metadata": {
        "id": "Qkq8X3BchDaT"
      },
      "outputs": [],
      "source": [
        "\n",
        "from sklearn.neighbors import KNeighborsClassifier\n",
        "model=KNeighborsClassifier()\n",
        "classificationResults(x_train,x_test,y_train,y_test,model)"
      ]
    },
    {
      "cell_type": "code",
      "source": [
        "from sklearn.ensemble import AdaBoostClassifier\n",
        "model=AdaBoostClassifier()\n",
        "print(f\" those are the parameters to optimize {model.get_params()}\")\n",
        "parameters={\"n_estimators\":[10,5,20,50,100,200,500,1000],\"learning_rate\":[0.01,0.001,0.0001,0.05,0.1,0.2,0.5,1]}\n",
        "clf = GridSearchCV(model, parameters)\n",
        "clf.fit(x_train, y_train[:,0])\n",
        "\n",
        "print(clf.best_params_)\n",
        "print(clf.best_score_)\n"
      ],
      "metadata": {
        "colab": {
          "base_uri": "https://localhost:8080/"
        },
        "id": "KE6l3Sm3jlfq",
        "outputId": "7fcb7fb5-5dcf-4a79-fbb4-98c13d8a1c81"
      },
      "execution_count": null,
      "outputs": [
        {
          "output_type": "stream",
          "name": "stdout",
          "text": [
            " those are the parameters to optimize {'algorithm': 'SAMME.R', 'base_estimator': None, 'learning_rate': 1.0, 'n_estimators': 50, 'random_state': None}\n"
          ]
        },
        {
          "output_type": "stream",
          "name": "stderr",
          "text": [
            "/usr/local/lib/python3.7/dist-packages/sklearn/model_selection/_split.py:680: UserWarning: The least populated class in y has only 2 members, which is less than n_splits=5.\n",
            "  UserWarning,\n"
          ]
        },
        {
          "output_type": "stream",
          "name": "stdout",
          "text": [
            "{'learning_rate': 0.01, 'n_estimators': 50}\n",
            "0.5386666666666666\n"
          ]
        }
      ]
    },
    {
      "cell_type": "code",
      "execution_count": null,
      "metadata": {
        "id": "OuFq5wUwhDaT",
        "colab": {
          "base_uri": "https://localhost:8080/",
          "height": 418
        },
        "outputId": "75b18820-b8e7-4db9-9ca5-bd059ae7182c"
      },
      "outputs": [
        {
          "output_type": "stream",
          "name": "stdout",
          "text": [
            "Train F1 score:  0.44800000000000006\n",
            "Train Precision score:  0.448\n",
            "Train Recall score:  0.448\n",
            "Test F1 score:  0.44800000000000006\n",
            "Test Precision score:  0.448\n",
            "Test Recall score:  0.448\n",
            "\n",
            "Confusion Matrix test:\n"
          ]
        },
        {
          "output_type": "display_data",
          "data": {
            "text/plain": [
              "<Figure size 432x288 with 2 Axes>"
            ],
            "image/png": "[encoded data removed]"
          },
          "metadata": {
            "needs_background": "light"
          }
        }
      ],
      "source": [
        "from sklearn.ensemble import AdaBoostClassifier\n",
        "model=AdaBoostClassifier()\n",
        "\n",
        "classificationResults(x_train,x_test,y_train,y_test,model)"
      ]
    },
    {
      "cell_type": "code",
      "execution_count": null,
      "metadata": {
        "id": "Qu-09vSDhDaT"
      },
      "outputs": [],
      "source": [
        "from sklearn.ensemble import GradientBoostingClassifier\n",
        "model=GradientBoostingClassifier()\n",
        "classificationResults(x_train,x_test,y_train,y_test,model)"
      ]
    },
    {
      "cell_type": "code",
      "execution_count": null,
      "metadata": {
        "id": "ZLSKxw0-hDaT"
      },
      "outputs": [],
      "source": []
    },
    {
      "cell_type": "code",
      "execution_count": null,
      "metadata": {
        "id": "4Z68ueu1hDaT"
      },
      "outputs": [],
      "source": [
        "model=tree.DecisionTreeRegressor()\n",
        "regressionResults(x_train,x_test,y_train,y_test,model)"
      ]
    },
    {
      "cell_type": "code",
      "execution_count": null,
      "metadata": {
        "id": "tOfIciWLhDaT"
      },
      "outputs": [],
      "source": [
        "from sklearn.ensemble import RandomForestRegressor\n",
        "model=RandomForestRegressor()\n",
        "regressionResults(x_train,x_test,y_train,y_test,model)"
      ]
    },
    {
      "cell_type": "code",
      "execution_count": null,
      "metadata": {
        "id": "u4MdpCXlhDaU"
      },
      "outputs": [],
      "source": [
        "\n",
        "from sklearn.linear_model import LinearRegression\n",
        "model=LinearRegression()\n",
        "regressionResults(x_train,x_test,y_train,y_test,model)\n"
      ]
    },
    {
      "cell_type": "code",
      "execution_count": null,
      "metadata": {
        "id": "r6EqVzxHhDaU"
      },
      "outputs": [],
      "source": [
        "# import support vector regression\n",
        "from sklearn.svm import SVR\n",
        "model=SVR()\n",
        "regressionResults(x_train,x_test,y_train,y_test,model)"
      ]
    },
    {
      "cell_type": "code",
      "execution_count": null,
      "metadata": {
        "id": "DvbDj1hHhDaU"
      },
      "outputs": [],
      "source": [
        "#import polynomial regression\n",
        "from sklearn.preprocessing import PolynomialFeatures\n",
        "from sklearn.pipeline import make_pipeline\n",
        "model=make_pipeline(PolynomialFeatures(2),LinearRegression())\n",
        "regressionResults(x_train,x_test,y_train,y_test,model)\n"
      ]
    }
  ],
  "metadata": {
    "kernelspec": {
      "display_name": "Python 3.11.0 64-bit",
      "language": "python",
      "name": "python3"
    },
    "language_info": {
      "codemirror_mode": {
        "name": "ipython",
        "version": 3
      },
      "file_extension": ".py",
      "mimetype": "text/x-python",
      "name": "python",
      "nbconvert_exporter": "python",
      "pygments_lexer": "ipython3",
      "version": "3.11.0"
    },
    "orig_nbformat": 4,
    "vscode": {
      "interpreter": {
        "hash": "32b23772a312cabd037b51ffca153a178270ce00afd94da1694114bd3650a0bf"
      }
    },
    "colab": {
      "provenance": []
    }
  },
  "nbformat": 4,
  "nbformat_minor": 0
}